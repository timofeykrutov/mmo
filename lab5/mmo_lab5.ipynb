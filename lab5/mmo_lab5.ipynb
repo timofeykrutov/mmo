{
  "nbformat": 4,
  "nbformat_minor": 0,
  "metadata": {
    "colab": {
      "name": "mmo_lab5.ipynb",
      "provenance": [],
      "collapsed_sections": []
    },
    "kernelspec": {
      "name": "python3",
      "display_name": "Python 3"
    }
  },
  "cells": [
    {
      "cell_type": "code",
      "metadata": {
        "id": "UAcXNUzpaVwK",
        "colab_type": "code",
        "colab": {}
      },
      "source": [
        "import pandas as pd\n",
        "pd.set_option('display.max.columns', 100)\n",
        "import numpy as np\n",
        "import matplotlib.pyplot as plt\n",
        "import seaborn as sns\n",
        "from sklearn.datasets import load_digits, load_wine, load_diabetes\n",
        "from sklearn.model_selection import train_test_split\n",
        "from sklearn.neighbors import KNeighborsRegressor, KNeighborsClassifier\n",
        "from sklearn.metrics import accuracy_score, balanced_accuracy_score\n",
        "from sklearn.metrics import precision_score, recall_score, f1_score, classification_report\n",
        "from sklearn.metrics import confusion_matrix\n",
        "from sklearn.metrics import mean_absolute_error, mean_squared_error, mean_squared_log_error, median_absolute_error, r2_score \n",
        "from sklearn.metrics import roc_curve, roc_auc_score\n",
        "from sklearn.linear_model import LinearRegression\n",
        "from sklearn.linear_model import SGDRegressor\n",
        "from sklearn.linear_model import SGDClassifier\n",
        "from sklearn.svm import SVC, NuSVC, LinearSVC, OneClassSVM, SVR, NuSVR, LinearSVR\n",
        "%matplotlib inline\n",
        "sns.set(rc={'figure.figsize':(16,8)})"
      ],
      "execution_count": 0,
      "outputs": []
    },
    {
      "cell_type": "code",
      "metadata": {
        "id": "VzmoD0CBaa4G",
        "colab_type": "code",
        "colab": {
          "base_uri": "https://localhost:8080/",
          "height": 221
        },
        "outputId": "a7a0e67b-7618-4151-f710-f4e82b2d0a9d"
      },
      "source": [
        "df = pd.read_csv('titanic.csv', error_bad_lines=False, comment='#')\n",
        "#df.drop(columns='id', inplace = True);\n",
        "df.drop(columns='Cabin', inplace= True)\n",
        "for col in df.columns:\n",
        "    count = df[df[col].isnull()].shape[0]\n",
        "    print('{}  -  {}'.format(col, count))\n",
        "print ('{} - размер датасета'.format(df.shape))\n"
      ],
      "execution_count": 31,
      "outputs": [
        {
          "output_type": "stream",
          "text": [
            "PassengerId  -  0\n",
            "Survived  -  0\n",
            "Pclass  -  0\n",
            "Name  -  0\n",
            "Sex  -  0\n",
            "Age  -  177\n",
            "SibSp  -  0\n",
            "Parch  -  0\n",
            "Ticket  -  0\n",
            "Fare  -  0\n",
            "Embarked  -  2\n",
            "(891, 11) - размер датасета\n"
          ],
          "name": "stdout"
        }
      ]
    },
    {
      "cell_type": "code",
      "metadata": {
        "id": "uTFZZQVBbxKW",
        "colab_type": "code",
        "colab": {
          "base_uri": "https://localhost:8080/",
          "height": 34
        },
        "outputId": "a4fbb878-84ff-4673-db07-502c11d658db"
      },
      "source": [
        "df = df.dropna(axis=0, how='any')\n",
        "(df.shape)"
      ],
      "execution_count": 32,
      "outputs": [
        {
          "output_type": "execute_result",
          "data": {
            "text/plain": [
              "(712, 11)"
            ]
          },
          "metadata": {
            "tags": []
          },
          "execution_count": 32
        }
      ]
    },
    {
      "cell_type": "code",
      "metadata": {
        "id": "kvVOs_NbcB_A",
        "colab_type": "code",
        "colab": {
          "base_uri": "https://localhost:8080/",
          "height": 419
        },
        "outputId": "a040d7de-4d74-443a-dd43-cc9912ccc5c9"
      },
      "source": [
        "#df.drop(columns=['Ticket', 'Name'], inplace= True)\n",
        "df.reset_index(drop= True, inplace=True)\n",
        "df"
      ],
      "execution_count": 33,
      "outputs": [
        {
          "output_type": "execute_result",
          "data": {
            "text/html": [
              "<div>\n",
              "<style scoped>\n",
              "    .dataframe tbody tr th:only-of-type {\n",
              "        vertical-align: middle;\n",
              "    }\n",
              "\n",
              "    .dataframe tbody tr th {\n",
              "        vertical-align: top;\n",
              "    }\n",
              "\n",
              "    .dataframe thead th {\n",
              "        text-align: right;\n",
              "    }\n",
              "</style>\n",
              "<table border=\"1\" class=\"dataframe\">\n",
              "  <thead>\n",
              "    <tr style=\"text-align: right;\">\n",
              "      <th></th>\n",
              "      <th>PassengerId</th>\n",
              "      <th>Survived</th>\n",
              "      <th>Pclass</th>\n",
              "      <th>Name</th>\n",
              "      <th>Sex</th>\n",
              "      <th>Age</th>\n",
              "      <th>SibSp</th>\n",
              "      <th>Parch</th>\n",
              "      <th>Ticket</th>\n",
              "      <th>Fare</th>\n",
              "      <th>Embarked</th>\n",
              "    </tr>\n",
              "  </thead>\n",
              "  <tbody>\n",
              "    <tr>\n",
              "      <th>0</th>\n",
              "      <td>1</td>\n",
              "      <td>0</td>\n",
              "      <td>3</td>\n",
              "      <td>Braund, Mr. Owen Harris</td>\n",
              "      <td>male</td>\n",
              "      <td>22.0</td>\n",
              "      <td>1</td>\n",
              "      <td>0</td>\n",
              "      <td>A/5 21171</td>\n",
              "      <td>7.2500</td>\n",
              "      <td>S</td>\n",
              "    </tr>\n",
              "    <tr>\n",
              "      <th>1</th>\n",
              "      <td>2</td>\n",
              "      <td>1</td>\n",
              "      <td>1</td>\n",
              "      <td>Cumings, Mrs. John Bradley (Florence Briggs Th...</td>\n",
              "      <td>female</td>\n",
              "      <td>38.0</td>\n",
              "      <td>1</td>\n",
              "      <td>0</td>\n",
              "      <td>PC 17599</td>\n",
              "      <td>71.2833</td>\n",
              "      <td>C</td>\n",
              "    </tr>\n",
              "    <tr>\n",
              "      <th>2</th>\n",
              "      <td>3</td>\n",
              "      <td>1</td>\n",
              "      <td>3</td>\n",
              "      <td>Heikkinen, Miss. Laina</td>\n",
              "      <td>female</td>\n",
              "      <td>26.0</td>\n",
              "      <td>0</td>\n",
              "      <td>0</td>\n",
              "      <td>STON/O2. 3101282</td>\n",
              "      <td>7.9250</td>\n",
              "      <td>S</td>\n",
              "    </tr>\n",
              "    <tr>\n",
              "      <th>3</th>\n",
              "      <td>4</td>\n",
              "      <td>1</td>\n",
              "      <td>1</td>\n",
              "      <td>Futrelle, Mrs. Jacques Heath (Lily May Peel)</td>\n",
              "      <td>female</td>\n",
              "      <td>35.0</td>\n",
              "      <td>1</td>\n",
              "      <td>0</td>\n",
              "      <td>113803</td>\n",
              "      <td>53.1000</td>\n",
              "      <td>S</td>\n",
              "    </tr>\n",
              "    <tr>\n",
              "      <th>4</th>\n",
              "      <td>5</td>\n",
              "      <td>0</td>\n",
              "      <td>3</td>\n",
              "      <td>Allen, Mr. William Henry</td>\n",
              "      <td>male</td>\n",
              "      <td>35.0</td>\n",
              "      <td>0</td>\n",
              "      <td>0</td>\n",
              "      <td>373450</td>\n",
              "      <td>8.0500</td>\n",
              "      <td>S</td>\n",
              "    </tr>\n",
              "    <tr>\n",
              "      <th>...</th>\n",
              "      <td>...</td>\n",
              "      <td>...</td>\n",
              "      <td>...</td>\n",
              "      <td>...</td>\n",
              "      <td>...</td>\n",
              "      <td>...</td>\n",
              "      <td>...</td>\n",
              "      <td>...</td>\n",
              "      <td>...</td>\n",
              "      <td>...</td>\n",
              "      <td>...</td>\n",
              "    </tr>\n",
              "    <tr>\n",
              "      <th>707</th>\n",
              "      <td>886</td>\n",
              "      <td>0</td>\n",
              "      <td>3</td>\n",
              "      <td>Rice, Mrs. William (Margaret Norton)</td>\n",
              "      <td>female</td>\n",
              "      <td>39.0</td>\n",
              "      <td>0</td>\n",
              "      <td>5</td>\n",
              "      <td>382652</td>\n",
              "      <td>29.1250</td>\n",
              "      <td>Q</td>\n",
              "    </tr>\n",
              "    <tr>\n",
              "      <th>708</th>\n",
              "      <td>887</td>\n",
              "      <td>0</td>\n",
              "      <td>2</td>\n",
              "      <td>Montvila, Rev. Juozas</td>\n",
              "      <td>male</td>\n",
              "      <td>27.0</td>\n",
              "      <td>0</td>\n",
              "      <td>0</td>\n",
              "      <td>211536</td>\n",
              "      <td>13.0000</td>\n",
              "      <td>S</td>\n",
              "    </tr>\n",
              "    <tr>\n",
              "      <th>709</th>\n",
              "      <td>888</td>\n",
              "      <td>1</td>\n",
              "      <td>1</td>\n",
              "      <td>Graham, Miss. Margaret Edith</td>\n",
              "      <td>female</td>\n",
              "      <td>19.0</td>\n",
              "      <td>0</td>\n",
              "      <td>0</td>\n",
              "      <td>112053</td>\n",
              "      <td>30.0000</td>\n",
              "      <td>S</td>\n",
              "    </tr>\n",
              "    <tr>\n",
              "      <th>710</th>\n",
              "      <td>890</td>\n",
              "      <td>1</td>\n",
              "      <td>1</td>\n",
              "      <td>Behr, Mr. Karl Howell</td>\n",
              "      <td>male</td>\n",
              "      <td>26.0</td>\n",
              "      <td>0</td>\n",
              "      <td>0</td>\n",
              "      <td>111369</td>\n",
              "      <td>30.0000</td>\n",
              "      <td>C</td>\n",
              "    </tr>\n",
              "    <tr>\n",
              "      <th>711</th>\n",
              "      <td>891</td>\n",
              "      <td>0</td>\n",
              "      <td>3</td>\n",
              "      <td>Dooley, Mr. Patrick</td>\n",
              "      <td>male</td>\n",
              "      <td>32.0</td>\n",
              "      <td>0</td>\n",
              "      <td>0</td>\n",
              "      <td>370376</td>\n",
              "      <td>7.7500</td>\n",
              "      <td>Q</td>\n",
              "    </tr>\n",
              "  </tbody>\n",
              "</table>\n",
              "<p>712 rows × 11 columns</p>\n",
              "</div>"
            ],
            "text/plain": [
              "     PassengerId  Survived  Pclass  \\\n",
              "0              1         0       3   \n",
              "1              2         1       1   \n",
              "2              3         1       3   \n",
              "3              4         1       1   \n",
              "4              5         0       3   \n",
              "..           ...       ...     ...   \n",
              "707          886         0       3   \n",
              "708          887         0       2   \n",
              "709          888         1       1   \n",
              "710          890         1       1   \n",
              "711          891         0       3   \n",
              "\n",
              "                                                  Name     Sex   Age  SibSp  \\\n",
              "0                              Braund, Mr. Owen Harris    male  22.0      1   \n",
              "1    Cumings, Mrs. John Bradley (Florence Briggs Th...  female  38.0      1   \n",
              "2                               Heikkinen, Miss. Laina  female  26.0      0   \n",
              "3         Futrelle, Mrs. Jacques Heath (Lily May Peel)  female  35.0      1   \n",
              "4                             Allen, Mr. William Henry    male  35.0      0   \n",
              "..                                                 ...     ...   ...    ...   \n",
              "707               Rice, Mrs. William (Margaret Norton)  female  39.0      0   \n",
              "708                              Montvila, Rev. Juozas    male  27.0      0   \n",
              "709                       Graham, Miss. Margaret Edith  female  19.0      0   \n",
              "710                              Behr, Mr. Karl Howell    male  26.0      0   \n",
              "711                                Dooley, Mr. Patrick    male  32.0      0   \n",
              "\n",
              "     Parch            Ticket     Fare Embarked  \n",
              "0        0         A/5 21171   7.2500        S  \n",
              "1        0          PC 17599  71.2833        C  \n",
              "2        0  STON/O2. 3101282   7.9250        S  \n",
              "3        0            113803  53.1000        S  \n",
              "4        0            373450   8.0500        S  \n",
              "..     ...               ...      ...      ...  \n",
              "707      5            382652  29.1250        Q  \n",
              "708      0            211536  13.0000        S  \n",
              "709      0            112053  30.0000        S  \n",
              "710      0            111369  30.0000        C  \n",
              "711      0            370376   7.7500        Q  \n",
              "\n",
              "[712 rows x 11 columns]"
            ]
          },
          "metadata": {
            "tags": []
          },
          "execution_count": 33
        }
      ]
    },
    {
      "cell_type": "markdown",
      "metadata": {
        "id": "al9-qWFpikRJ",
        "colab_type": "text"
      },
      "source": [
        "### Закодируем категориальные признаки "
      ]
    },
    {
      "cell_type": "code",
      "metadata": {
        "id": "Sdc5gpO7dVuW",
        "colab_type": "code",
        "colab": {
          "base_uri": "https://localhost:8080/",
          "height": 419
        },
        "outputId": "44c106b1-673f-4712-d659-d45c73318cd3"
      },
      "source": [
        "from sklearn.preprocessing import LabelEncoder, OneHotEncoder \n",
        "le = LabelEncoder()\n",
        "ohe = OneHotEncoder()\n",
        "sex = le.fit_transform(df['Sex'])\n",
        "sex = pd.DataFrame({'Sex':sex.T})\n",
        "Embarked = le.fit_transform(df['Embarked'])\n",
        "Embarked = pd.DataFrame({'Embarked' : Embarked.T })\n",
        "sex\n"
      ],
      "execution_count": 34,
      "outputs": [
        {
          "output_type": "execute_result",
          "data": {
            "text/html": [
              "<div>\n",
              "<style scoped>\n",
              "    .dataframe tbody tr th:only-of-type {\n",
              "        vertical-align: middle;\n",
              "    }\n",
              "\n",
              "    .dataframe tbody tr th {\n",
              "        vertical-align: top;\n",
              "    }\n",
              "\n",
              "    .dataframe thead th {\n",
              "        text-align: right;\n",
              "    }\n",
              "</style>\n",
              "<table border=\"1\" class=\"dataframe\">\n",
              "  <thead>\n",
              "    <tr style=\"text-align: right;\">\n",
              "      <th></th>\n",
              "      <th>Sex</th>\n",
              "    </tr>\n",
              "  </thead>\n",
              "  <tbody>\n",
              "    <tr>\n",
              "      <th>0</th>\n",
              "      <td>1</td>\n",
              "    </tr>\n",
              "    <tr>\n",
              "      <th>1</th>\n",
              "      <td>0</td>\n",
              "    </tr>\n",
              "    <tr>\n",
              "      <th>2</th>\n",
              "      <td>0</td>\n",
              "    </tr>\n",
              "    <tr>\n",
              "      <th>3</th>\n",
              "      <td>0</td>\n",
              "    </tr>\n",
              "    <tr>\n",
              "      <th>4</th>\n",
              "      <td>1</td>\n",
              "    </tr>\n",
              "    <tr>\n",
              "      <th>...</th>\n",
              "      <td>...</td>\n",
              "    </tr>\n",
              "    <tr>\n",
              "      <th>707</th>\n",
              "      <td>0</td>\n",
              "    </tr>\n",
              "    <tr>\n",
              "      <th>708</th>\n",
              "      <td>1</td>\n",
              "    </tr>\n",
              "    <tr>\n",
              "      <th>709</th>\n",
              "      <td>0</td>\n",
              "    </tr>\n",
              "    <tr>\n",
              "      <th>710</th>\n",
              "      <td>1</td>\n",
              "    </tr>\n",
              "    <tr>\n",
              "      <th>711</th>\n",
              "      <td>1</td>\n",
              "    </tr>\n",
              "  </tbody>\n",
              "</table>\n",
              "<p>712 rows × 1 columns</p>\n",
              "</div>"
            ],
            "text/plain": [
              "     Sex\n",
              "0      1\n",
              "1      0\n",
              "2      0\n",
              "3      0\n",
              "4      1\n",
              "..   ...\n",
              "707    0\n",
              "708    1\n",
              "709    0\n",
              "710    1\n",
              "711    1\n",
              "\n",
              "[712 rows x 1 columns]"
            ]
          },
          "metadata": {
            "tags": []
          },
          "execution_count": 34
        }
      ]
    },
    {
      "cell_type": "code",
      "metadata": {
        "id": "UccS5dAJeE25",
        "colab_type": "code",
        "colab": {
          "base_uri": "https://localhost:8080/",
          "height": 691
        },
        "outputId": "8924d3e3-e6e2-4280-e037-85583a18c810"
      },
      "source": [
        "del df['Sex']\n",
        "del df['Embarked']\n",
        "df = df.join(sex)\n",
        "df = df.join(Embarked)\n",
        "df"
      ],
      "execution_count": 35,
      "outputs": [
        {
          "output_type": "execute_result",
          "data": {
            "text/html": [
              "<div>\n",
              "<style scoped>\n",
              "    .dataframe tbody tr th:only-of-type {\n",
              "        vertical-align: middle;\n",
              "    }\n",
              "\n",
              "    .dataframe tbody tr th {\n",
              "        vertical-align: top;\n",
              "    }\n",
              "\n",
              "    .dataframe thead th {\n",
              "        text-align: right;\n",
              "    }\n",
              "</style>\n",
              "<table border=\"1\" class=\"dataframe\">\n",
              "  <thead>\n",
              "    <tr style=\"text-align: right;\">\n",
              "      <th></th>\n",
              "      <th>PassengerId</th>\n",
              "      <th>Survived</th>\n",
              "      <th>Pclass</th>\n",
              "      <th>Name</th>\n",
              "      <th>Age</th>\n",
              "      <th>SibSp</th>\n",
              "      <th>Parch</th>\n",
              "      <th>Ticket</th>\n",
              "      <th>Fare</th>\n",
              "      <th>Sex</th>\n",
              "      <th>Embarked</th>\n",
              "    </tr>\n",
              "  </thead>\n",
              "  <tbody>\n",
              "    <tr>\n",
              "      <th>0</th>\n",
              "      <td>1</td>\n",
              "      <td>0</td>\n",
              "      <td>3</td>\n",
              "      <td>Braund, Mr. Owen Harris</td>\n",
              "      <td>22.0</td>\n",
              "      <td>1</td>\n",
              "      <td>0</td>\n",
              "      <td>A/5 21171</td>\n",
              "      <td>7.2500</td>\n",
              "      <td>1</td>\n",
              "      <td>2</td>\n",
              "    </tr>\n",
              "    <tr>\n",
              "      <th>1</th>\n",
              "      <td>2</td>\n",
              "      <td>1</td>\n",
              "      <td>1</td>\n",
              "      <td>Cumings, Mrs. John Bradley (Florence Briggs Th...</td>\n",
              "      <td>38.0</td>\n",
              "      <td>1</td>\n",
              "      <td>0</td>\n",
              "      <td>PC 17599</td>\n",
              "      <td>71.2833</td>\n",
              "      <td>0</td>\n",
              "      <td>0</td>\n",
              "    </tr>\n",
              "    <tr>\n",
              "      <th>2</th>\n",
              "      <td>3</td>\n",
              "      <td>1</td>\n",
              "      <td>3</td>\n",
              "      <td>Heikkinen, Miss. Laina</td>\n",
              "      <td>26.0</td>\n",
              "      <td>0</td>\n",
              "      <td>0</td>\n",
              "      <td>STON/O2. 3101282</td>\n",
              "      <td>7.9250</td>\n",
              "      <td>0</td>\n",
              "      <td>2</td>\n",
              "    </tr>\n",
              "    <tr>\n",
              "      <th>3</th>\n",
              "      <td>4</td>\n",
              "      <td>1</td>\n",
              "      <td>1</td>\n",
              "      <td>Futrelle, Mrs. Jacques Heath (Lily May Peel)</td>\n",
              "      <td>35.0</td>\n",
              "      <td>1</td>\n",
              "      <td>0</td>\n",
              "      <td>113803</td>\n",
              "      <td>53.1000</td>\n",
              "      <td>0</td>\n",
              "      <td>2</td>\n",
              "    </tr>\n",
              "    <tr>\n",
              "      <th>4</th>\n",
              "      <td>5</td>\n",
              "      <td>0</td>\n",
              "      <td>3</td>\n",
              "      <td>Allen, Mr. William Henry</td>\n",
              "      <td>35.0</td>\n",
              "      <td>0</td>\n",
              "      <td>0</td>\n",
              "      <td>373450</td>\n",
              "      <td>8.0500</td>\n",
              "      <td>1</td>\n",
              "      <td>2</td>\n",
              "    </tr>\n",
              "    <tr>\n",
              "      <th>...</th>\n",
              "      <td>...</td>\n",
              "      <td>...</td>\n",
              "      <td>...</td>\n",
              "      <td>...</td>\n",
              "      <td>...</td>\n",
              "      <td>...</td>\n",
              "      <td>...</td>\n",
              "      <td>...</td>\n",
              "      <td>...</td>\n",
              "      <td>...</td>\n",
              "      <td>...</td>\n",
              "    </tr>\n",
              "    <tr>\n",
              "      <th>707</th>\n",
              "      <td>886</td>\n",
              "      <td>0</td>\n",
              "      <td>3</td>\n",
              "      <td>Rice, Mrs. William (Margaret Norton)</td>\n",
              "      <td>39.0</td>\n",
              "      <td>0</td>\n",
              "      <td>5</td>\n",
              "      <td>382652</td>\n",
              "      <td>29.1250</td>\n",
              "      <td>0</td>\n",
              "      <td>1</td>\n",
              "    </tr>\n",
              "    <tr>\n",
              "      <th>708</th>\n",
              "      <td>887</td>\n",
              "      <td>0</td>\n",
              "      <td>2</td>\n",
              "      <td>Montvila, Rev. Juozas</td>\n",
              "      <td>27.0</td>\n",
              "      <td>0</td>\n",
              "      <td>0</td>\n",
              "      <td>211536</td>\n",
              "      <td>13.0000</td>\n",
              "      <td>1</td>\n",
              "      <td>2</td>\n",
              "    </tr>\n",
              "    <tr>\n",
              "      <th>709</th>\n",
              "      <td>888</td>\n",
              "      <td>1</td>\n",
              "      <td>1</td>\n",
              "      <td>Graham, Miss. Margaret Edith</td>\n",
              "      <td>19.0</td>\n",
              "      <td>0</td>\n",
              "      <td>0</td>\n",
              "      <td>112053</td>\n",
              "      <td>30.0000</td>\n",
              "      <td>0</td>\n",
              "      <td>2</td>\n",
              "    </tr>\n",
              "    <tr>\n",
              "      <th>710</th>\n",
              "      <td>890</td>\n",
              "      <td>1</td>\n",
              "      <td>1</td>\n",
              "      <td>Behr, Mr. Karl Howell</td>\n",
              "      <td>26.0</td>\n",
              "      <td>0</td>\n",
              "      <td>0</td>\n",
              "      <td>111369</td>\n",
              "      <td>30.0000</td>\n",
              "      <td>1</td>\n",
              "      <td>0</td>\n",
              "    </tr>\n",
              "    <tr>\n",
              "      <th>711</th>\n",
              "      <td>891</td>\n",
              "      <td>0</td>\n",
              "      <td>3</td>\n",
              "      <td>Dooley, Mr. Patrick</td>\n",
              "      <td>32.0</td>\n",
              "      <td>0</td>\n",
              "      <td>0</td>\n",
              "      <td>370376</td>\n",
              "      <td>7.7500</td>\n",
              "      <td>1</td>\n",
              "      <td>1</td>\n",
              "    </tr>\n",
              "  </tbody>\n",
              "</table>\n",
              "<p>712 rows × 11 columns</p>\n",
              "</div>"
            ],
            "text/plain": [
              "     PassengerId  Survived  Pclass  \\\n",
              "0              1         0       3   \n",
              "1              2         1       1   \n",
              "2              3         1       3   \n",
              "3              4         1       1   \n",
              "4              5         0       3   \n",
              "..           ...       ...     ...   \n",
              "707          886         0       3   \n",
              "708          887         0       2   \n",
              "709          888         1       1   \n",
              "710          890         1       1   \n",
              "711          891         0       3   \n",
              "\n",
              "                                                  Name   Age  SibSp  Parch  \\\n",
              "0                              Braund, Mr. Owen Harris  22.0      1      0   \n",
              "1    Cumings, Mrs. John Bradley (Florence Briggs Th...  38.0      1      0   \n",
              "2                               Heikkinen, Miss. Laina  26.0      0      0   \n",
              "3         Futrelle, Mrs. Jacques Heath (Lily May Peel)  35.0      1      0   \n",
              "4                             Allen, Mr. William Henry  35.0      0      0   \n",
              "..                                                 ...   ...    ...    ...   \n",
              "707               Rice, Mrs. William (Margaret Norton)  39.0      0      5   \n",
              "708                              Montvila, Rev. Juozas  27.0      0      0   \n",
              "709                       Graham, Miss. Margaret Edith  19.0      0      0   \n",
              "710                              Behr, Mr. Karl Howell  26.0      0      0   \n",
              "711                                Dooley, Mr. Patrick  32.0      0      0   \n",
              "\n",
              "               Ticket     Fare  Sex  Embarked  \n",
              "0           A/5 21171   7.2500    1         2  \n",
              "1            PC 17599  71.2833    0         0  \n",
              "2    STON/O2. 3101282   7.9250    0         2  \n",
              "3              113803  53.1000    0         2  \n",
              "4              373450   8.0500    1         2  \n",
              "..                ...      ...  ...       ...  \n",
              "707            382652  29.1250    0         1  \n",
              "708            211536  13.0000    1         2  \n",
              "709            112053  30.0000    0         2  \n",
              "710            111369  30.0000    1         0  \n",
              "711            370376   7.7500    1         1  \n",
              "\n",
              "[712 rows x 11 columns]"
            ]
          },
          "metadata": {
            "tags": []
          },
          "execution_count": 35
        }
      ]
    },
    {
      "cell_type": "code",
      "metadata": {
        "id": "9YEyMN3AewQW",
        "colab_type": "code",
        "colab": {}
      },
      "source": [
        "df.drop(columns=['Ticket', 'Name'], inplace= True)"
      ],
      "execution_count": 0,
      "outputs": []
    },
    {
      "cell_type": "code",
      "metadata": {
        "id": "7O2Y-ZMygMOF",
        "colab_type": "code",
        "colab": {
          "base_uri": "https://localhost:8080/",
          "height": 418
        },
        "outputId": "5a3b45ec-854b-4b27-eaec-75c2fe5855db"
      },
      "source": [
        "fig, ax = plt.subplots(figsize=(15,7))\n",
        "sns.heatmap(df.corr(method='pearson'), ax=ax, annot=True, fmt='.2f')"
      ],
      "execution_count": 43,
      "outputs": [
        {
          "output_type": "execute_result",
          "data": {
            "text/plain": [
              "<matplotlib.axes._subplots.AxesSubplot at 0x7f389d8e04e0>"
            ]
          },
          "metadata": {
            "tags": []
          },
          "execution_count": 43
        },
        {
          "output_type": "display_data",
          "data": {
            "image/png": "[encoded data removed]",
            "text/plain": [
              "<Figure size 1080x504 with 2 Axes>"
            ]
          },
          "metadata": {
            "tags": []
          }
        }
      ]
    },
    {
      "cell_type": "code",
      "metadata": {
        "id": "yaBLPDTTezbj",
        "colab_type": "code",
        "colab": {}
      },
      "source": [
        "X = df.drop(columns='Survived')\n",
        "Y = df.Survived"
      ],
      "execution_count": 0,
      "outputs": []
    },
    {
      "cell_type": "markdown",
      "metadata": {
        "id": "BVaB7MBA_ynz",
        "colab_type": "text"
      },
      "source": [
        "### Логистическая регрессия"
      ]
    },
    {
      "cell_type": "code",
      "metadata": {
        "id": "O3CDaexbfVbP",
        "colab_type": "code",
        "colab": {}
      },
      "source": [
        "from sklearn.model_selection import train_test_split, KFold, cross_val_score, GridSearchCV\n",
        "\n",
        "X_train, X_test, y_train, y_test = train_test_split(X, Y, test_size = 0.2)"
      ],
      "execution_count": 0,
      "outputs": []
    },
    {
      "cell_type": "code",
      "metadata": {
        "id": "b26HHNNJfbb0",
        "colab_type": "code",
        "colab": {}
      },
      "source": [
        "from sklearn.linear_model import LogisticRegression\n",
        "clf_lr = LogisticRegression(max_iter=100000)\n",
        "clf_lr.fit(X_train, y_train)"
      ],
      "execution_count": 0,
      "outputs": []
    },
    {
      "cell_type": "code",
      "metadata": {
        "id": "RZut2Wgufe07",
        "colab_type": "code",
        "colab": {
          "base_uri": "https://localhost:8080/",
          "height": 34
        },
        "outputId": "61fd8e36-ded7-4cda-e8ad-a01d26d9a7c3"
      },
      "source": [
        "clf_lr.score(X_train, y_train)"
      ],
      "execution_count": 97,
      "outputs": [
        {
          "output_type": "execute_result",
          "data": {
            "text/plain": [
              "0.8031634446397188"
            ]
          },
          "metadata": {
            "tags": []
          },
          "execution_count": 97
        }
      ]
    },
    {
      "cell_type": "code",
      "metadata": {
        "id": "fj0Mg4X8flBH",
        "colab_type": "code",
        "colab": {
          "base_uri": "https://localhost:8080/",
          "height": 170
        },
        "outputId": "531ef40d-e9eb-4530-e397-14a58f63b072"
      },
      "source": [
        "from sklearn.metrics import accuracy_score as acuracy, precision_score as precision, recall_score as recall\n",
        "\n",
        "print('accuracy_score для обучающего набора:', acuracy(y_train, clf_lr.predict(X_train)))\n",
        "print('accuracy_score для тестового набора :', acuracy(y_test, clf_lr.predict(X_test)), '\\n')\n",
        "print('precission_score для обучающего набора:', precision(y_train, clf_lr.predict(X_train)))\n",
        "print('precission_score для тестового набора :', precision(y_test, clf_lr.predict(X_test)), '\\n')\n",
        "print('recall_score для обучающего набора:', recall(y_train, clf_lr.predict(X_train)))\n",
        "print('recall_score для тестового набора :', recall(y_test, clf_lr.predict(X_test)), '\\n')"
      ],
      "execution_count": 76,
      "outputs": [
        {
          "output_type": "stream",
          "text": [
            "accuracy_score для обучающего набора: 0.8031634446397188\n",
            "accuracy_score для тестового набора : 0.8181818181818182 \n",
            "\n",
            "precission_score для обучающего набора: 0.7788461538461539\n",
            "precission_score для тестового набора : 0.8148148148148148 \n",
            "\n",
            "recall_score для обучающего набора: 0.7105263157894737\n",
            "recall_score для тестового набора : 0.7333333333333333 \n",
            "\n"
          ],
          "name": "stdout"
        }
      ]
    },
    {
      "cell_type": "markdown",
      "metadata": {
        "id": "FYjLo_1PhxhK",
        "colab_type": "text"
      },
      "source": [
        "# SVM"
      ]
    },
    {
      "cell_type": "code",
      "metadata": {
        "id": "G2hQUelvhBC_",
        "colab_type": "code",
        "colab": {
          "base_uri": "https://localhost:8080/",
          "height": 119
        },
        "outputId": "ee9b2484-e268-434a-ed2a-2a468e821d0d"
      },
      "source": [
        "from sklearn.svm import SVC\n",
        "clf_svc = SVC(kernel='rbf', C=1)\n",
        "%time clf_svc.fit(X_train, y_train)"
      ],
      "execution_count": 77,
      "outputs": [
        {
          "output_type": "stream",
          "text": [
            "CPU times: user 17.6 ms, sys: 6 µs, total: 17.6 ms\n",
            "Wall time: 22.2 ms\n"
          ],
          "name": "stdout"
        },
        {
          "output_type": "execute_result",
          "data": {
            "text/plain": [
              "SVC(C=1, break_ties=False, cache_size=200, class_weight=None, coef0=0.0,\n",
              "    decision_function_shape='ovr', degree=3, gamma='scale', kernel='rbf',\n",
              "    max_iter=-1, probability=False, random_state=None, shrinking=True,\n",
              "    tol=0.001, verbose=False)"
            ]
          },
          "metadata": {
            "tags": []
          },
          "execution_count": 77
        }
      ]
    },
    {
      "cell_type": "code",
      "metadata": {
        "id": "ohhIsSP_hKIj",
        "colab_type": "code",
        "colab": {
          "base_uri": "https://localhost:8080/",
          "height": 170
        },
        "outputId": "eefdabf6-2143-4d95-afeb-fe122017da0f"
      },
      "source": [
        "print('accuracy_score tдля обучающего набораrain:', acuracy(y_train, clf_svc.predict(X_train)))\n",
        "print('accuracy_score для тестового набора :', acuracy(y_test, clf_svc.predict(X_test)), '\\n')\n",
        "print('precission_score для обучающего набора:', precision(y_train, clf_svc.predict(X_train)))\n",
        "print('precission_score для тестового набора :', precision(y_test, clf_svc.predict(X_test)), '\\n')\n",
        "print('recall_score для обучающего набора:', recall(y_train, clf_svc.predict(X_train)))\n",
        "print('recall_score для тестового набора :', recall(y_test, clf_svc.predict(X_test)), '\\n')"
      ],
      "execution_count": 46,
      "outputs": [
        {
          "output_type": "stream",
          "text": [
            "accuracy train: 0.6467486818980668\n",
            "accuracy test : 0.6293706293706294 \n",
            "\n",
            "precission train: 0.8\n",
            "precission test : 0.7692307692307693 \n",
            "\n",
            "recall train: 0.15789473684210525\n",
            "recall test : 0.16666666666666666 \n",
            "\n"
          ],
          "name": "stdout"
        }
      ]
    },
    {
      "cell_type": "markdown",
      "metadata": {
        "id": "LZXeDvbvk7n4",
        "colab_type": "text"
      },
      "source": [
        "# Деревья решений"
      ]
    },
    {
      "cell_type": "code",
      "metadata": {
        "id": "zoGbheNmiz7D",
        "colab_type": "code",
        "colab": {
          "base_uri": "https://localhost:8080/",
          "height": 119
        },
        "outputId": "83e2d4f4-3eb8-4f6d-861a-b7f4db410a87"
      },
      "source": [
        "from sklearn.tree import DecisionTreeClassifier\n",
        "clf_dt = DecisionTreeClassifier(max_depth=25, min_samples_split=2, min_samples_leaf=1)\n",
        "clf_dt.fit(X_train, y_train)"
      ],
      "execution_count": 102,
      "outputs": [
        {
          "output_type": "execute_result",
          "data": {
            "text/plain": [
              "DecisionTreeClassifier(ccp_alpha=0.0, class_weight=None, criterion='gini',\n",
              "                       max_depth=25, max_features=None, max_leaf_nodes=None,\n",
              "                       min_impurity_decrease=0.0, min_impurity_split=None,\n",
              "                       min_samples_leaf=1, min_samples_split=2,\n",
              "                       min_weight_fraction_leaf=0.0, presort='deprecated',\n",
              "                       random_state=None, splitter='best')"
            ]
          },
          "metadata": {
            "tags": []
          },
          "execution_count": 102
        }
      ]
    },
    {
      "cell_type": "code",
      "metadata": {
        "id": "eDHr3ufDi3q1",
        "colab_type": "code",
        "colab": {
          "base_uri": "https://localhost:8080/",
          "height": 170
        },
        "outputId": "00fb9a07-a1f3-4451-a13e-e79298f0d5d2"
      },
      "source": [
        "print('accuracy_score для обучающего набора:', acuracy(y_train, clf_dt.predict(X_train)))\n",
        "print('accuracy_score для тестового набора :', acuracy(y_test, clf_dt.predict(X_test)), '\\n')\n",
        "print('precission_score для обучающего набора:', precision(y_train, clf_dt.predict(X_train)))\n",
        "print('precission_score для тестового набора :', precision(y_test, clf_dt.predict(X_test)), '\\n')\n",
        "print('recall_score для обучающего набора:', recall(y_train, clf_dt.predict(X_train)))\n",
        "print('recall_score для тестового набора :', recall(y_test, clf_dt.predict(X_test)), '\\n')"
      ],
      "execution_count": 103,
      "outputs": [
        {
          "output_type": "stream",
          "text": [
            "accuracy_score для обучающего набора: 1.0\n",
            "accuracy_score для тестового набора : 0.7342657342657343 \n",
            "\n",
            "precission_score для обучающего набора: 1.0\n",
            "precission_score для тестового набора : 0.6896551724137931 \n",
            "\n",
            "recall_score для обучающего набора: 1.0\n",
            "recall_score для тестового набора : 0.6666666666666666 \n",
            "\n"
          ],
          "name": "stdout"
        }
      ]
    },
    {
      "cell_type": "markdown",
      "metadata": {
        "id": "VUAPms62klqF",
        "colab_type": "text"
      },
      "source": [
        "# GridSearchCV"
      ]
    },
    {
      "cell_type": "markdown",
      "metadata": {
        "id": "hXntn3JFpUet",
        "colab_type": "text"
      },
      "source": [
        "### Используем функцию GridSearchCV для подбора гиперпараметров "
      ]
    },
    {
      "cell_type": "code",
      "metadata": {
        "id": "hpf0AGBqklA6",
        "colab_type": "code",
        "colab": {}
      },
      "source": [
        "from sklearn.model_selection import GridSearchCV, KFold\n",
        "from sklearn.linear_model import LogisticRegression\n",
        "params_l = {'max_iter' : [50000], 'C' : [x for x in 10.0**np.arange(-5, 5)]}\n",
        "grsrch_lr = GridSearchCV(estimator=LogisticRegression(), param_grid=params_l, cv=KFold(random_state=1, shuffle=True))"
      ],
      "execution_count": 0,
      "outputs": []
    },
    {
      "cell_type": "code",
      "metadata": {
        "id": "OUc1WbzSklFq",
        "colab_type": "code",
        "colab": {
          "base_uri": "https://localhost:8080/",
          "height": 289
        },
        "outputId": "283c5ec6-0f5f-4aa7-eb0f-ac399a91d6df"
      },
      "source": [
        "grsrch_lr.fit(X_train, y_train)"
      ],
      "execution_count": 85,
      "outputs": [
        {
          "output_type": "execute_result",
          "data": {
            "text/plain": [
              "GridSearchCV(cv=KFold(n_splits=5, random_state=1, shuffle=True),\n",
              "             error_score=nan,\n",
              "             estimator=LogisticRegression(C=1.0, class_weight=None, dual=False,\n",
              "                                          fit_intercept=True,\n",
              "                                          intercept_scaling=1, l1_ratio=None,\n",
              "                                          max_iter=100, multi_class='auto',\n",
              "                                          n_jobs=None, penalty='l2',\n",
              "                                          random_state=None, solver='lbfgs',\n",
              "                                          tol=0.0001, verbose=0,\n",
              "                                          warm_start=False),\n",
              "             iid='deprecated', n_jobs=None,\n",
              "             param_grid={'C': [1e-05, 0.0001, 0.001, 0.01, 0.1, 1.0, 10.0,\n",
              "                               100.0, 1000.0, 10000.0],\n",
              "                         'max_iter': [50000]},\n",
              "             pre_dispatch='2*n_jobs', refit=True, return_train_score=False,\n",
              "             scoring=None, verbose=0)"
            ]
          },
          "metadata": {
            "tags": []
          },
          "execution_count": 85
        }
      ]
    },
    {
      "cell_type": "code",
      "metadata": {
        "id": "CvTvSkrYlRZt",
        "colab_type": "code",
        "colab": {
          "base_uri": "https://localhost:8080/",
          "height": 34
        },
        "outputId": "a36289bb-caaf-4909-fa64-96a5349720e1"
      },
      "source": [
        "grsrch_lr.best_params_"
      ],
      "execution_count": 86,
      "outputs": [
        {
          "output_type": "execute_result",
          "data": {
            "text/plain": [
              "{'C': 1.0, 'max_iter': 50000}"
            ]
          },
          "metadata": {
            "tags": []
          },
          "execution_count": 86
        }
      ]
    },
    {
      "cell_type": "code",
      "metadata": {
        "id": "Cud0zvSRl2__",
        "colab_type": "code",
        "colab": {
          "base_uri": "https://localhost:8080/",
          "height": 170
        },
        "outputId": "ca838265-1aca-4064-df1a-791ab9909c77"
      },
      "source": [
        "print('accuracy_score для обучаещего набора:', acuracy(y_train, grsrch_lr.best_estimator_.predict(X_train)))\n",
        "print('accuracy_score для тестового набора :', acuracy(y_test, grsrch_lr.best_estimator_.predict(X_test)), '\\n')\n",
        "print('precission_score для обучаещего набора:', precision(y_train, grsrch_lr.best_estimator_.predict(X_train)))\n",
        "print('precission_score для тестового набора :', precision(y_test, grsrch_lr.best_estimator_.predict(X_test)), '\\n')\n",
        "print('recall_score для обучаещего набора:', recall(y_train, grsrch_lr.best_estimator_.predict(X_train)))\n",
        "print('recall_score для тестового набора :', recall(y_test, grsrch_lr.best_estimator_.predict(X_test)), '\\n')\n"
      ],
      "execution_count": 87,
      "outputs": [
        {
          "output_type": "stream",
          "text": [
            "accuracy_score для обучаещего набора: 0.8031634446397188\n",
            "accuracy_score для тестового набора : 0.8181818181818182 \n",
            "\n",
            "precission_score для обучаещего набора: 0.7788461538461539\n",
            "precission_score для тестового набора : 0.8148148148148148 \n",
            "\n",
            "recall_score для обучаещего набора: 0.7105263157894737\n",
            "recall_score для тестового набора : 0.7333333333333333 \n",
            "\n"
          ],
          "name": "stdout"
        }
      ]
    },
    {
      "cell_type": "code",
      "metadata": {
        "id": "ubVCN23imbrf",
        "colab_type": "code",
        "colab": {}
      },
      "source": [
        "params_svc = {'kernel' : ['linear', 'poly']}\n",
        "grsrch_svc = GridSearchCV(estimator=SVC(), param_grid=params_svc, cv=KFold(n_splits=5, random_state=1, shuffle=True))"
      ],
      "execution_count": 0,
      "outputs": []
    },
    {
      "cell_type": "code",
      "metadata": {
        "id": "lBYJ3O7umhU7",
        "colab_type": "code",
        "colab": {
          "base_uri": "https://localhost:8080/",
          "height": 204
        },
        "outputId": "f87143a8-6de4-4463-c758-6c84954a58a3"
      },
      "source": [
        "grsrch_svc.fit(X_train, y_train)\n"
      ],
      "execution_count": 89,
      "outputs": [
        {
          "output_type": "execute_result",
          "data": {
            "text/plain": [
              "GridSearchCV(cv=KFold(n_splits=5, random_state=1, shuffle=True),\n",
              "             error_score=nan,\n",
              "             estimator=SVC(C=1.0, break_ties=False, cache_size=200,\n",
              "                           class_weight=None, coef0=0.0,\n",
              "                           decision_function_shape='ovr', degree=3,\n",
              "                           gamma='scale', kernel='rbf', max_iter=-1,\n",
              "                           probability=False, random_state=None, shrinking=True,\n",
              "                           tol=0.001, verbose=False),\n",
              "             iid='deprecated', n_jobs=None,\n",
              "             param_grid={'kernel': ['linear', 'poly']}, pre_dispatch='2*n_jobs',\n",
              "             refit=True, return_train_score=False, scoring=None, verbose=0)"
            ]
          },
          "metadata": {
            "tags": []
          },
          "execution_count": 89
        }
      ]
    },
    {
      "cell_type": "code",
      "metadata": {
        "id": "gLimJXVvoP70",
        "colab_type": "code",
        "colab": {
          "base_uri": "https://localhost:8080/",
          "height": 170
        },
        "outputId": "8082822c-9c45-46ec-eb90-659f77ec3e58"
      },
      "source": [
        "print('accuracy_score для обучающего набора:', acuracy(y_train, grsrch_svc.best_estimator_.predict(X_train)))\n",
        "print('accuracy_score для тестового набора :', acuracy(y_test, grsrch_svc.best_estimator_.predict(X_test)), '\\n')\n",
        "print('precission_score для обучающего набора:', precision(y_train, grsrch_svc.best_estimator_.predict(X_train)))\n",
        "print('precission_score для тестового набора :', precision(y_test, grsrch_svc.best_estimator_.predict(X_test)), '\\n')\n",
        "print('recall_score для обучающего набора:', recall(y_train, grsrch_svc.best_estimator_.predict(X_train)))\n",
        "print('recall_score для тестового набора :', recall(y_test, grsrch_svc.best_estimator_.predict(X_test)), '\\n')"
      ],
      "execution_count": 90,
      "outputs": [
        {
          "output_type": "stream",
          "text": [
            "accuracy_score для обучающего набора: 0.7908611599297012\n",
            "accuracy_score для тестового набора : 0.7762237762237763 \n",
            "\n",
            "precission_score для обучающего набора: 0.7738693467336684\n",
            "precission_score для тестового набора : 0.7592592592592593 \n",
            "\n",
            "recall_score для обучающего набора: 0.6754385964912281\n",
            "recall_score для тестового набора : 0.6833333333333333 \n",
            "\n"
          ],
          "name": "stdout"
        }
      ]
    },
    {
      "cell_type": "code",
      "metadata": {
        "id": "5DzPKWooogwG",
        "colab_type": "code",
        "colab": {}
      },
      "source": [
        "params_dt = {'max_depth' : np.arange(10, 20, 2), \n",
        "             'min_samples_split' : np.arange(2, 8, 1)}\n",
        "\n",
        "grsrch_dt =  GridSearchCV(estimator=DecisionTreeClassifier(), param_grid=params_dt, cv=KFold(n_splits=5, random_state=1, shuffle=True))"
      ],
      "execution_count": 0,
      "outputs": []
    },
    {
      "cell_type": "code",
      "metadata": {
        "id": "h1Fwtnnboi9Y",
        "colab_type": "code",
        "colab": {
          "base_uri": "https://localhost:8080/",
          "height": 340
        },
        "outputId": "0c748b34-21c8-435f-ea1c-a91cec2b4366"
      },
      "source": [
        "grsrch_dt.fit(X_train, y_train)"
      ],
      "execution_count": 92,
      "outputs": [
        {
          "output_type": "execute_result",
          "data": {
            "text/plain": [
              "GridSearchCV(cv=KFold(n_splits=5, random_state=1, shuffle=True),\n",
              "             error_score=nan,\n",
              "             estimator=DecisionTreeClassifier(ccp_alpha=0.0, class_weight=None,\n",
              "                                              criterion='gini', max_depth=None,\n",
              "                                              max_features=None,\n",
              "                                              max_leaf_nodes=None,\n",
              "                                              min_impurity_decrease=0.0,\n",
              "                                              min_impurity_split=None,\n",
              "                                              min_samples_leaf=1,\n",
              "                                              min_samples_split=2,\n",
              "                                              min_weight_fraction_leaf=0.0,\n",
              "                                              presort='deprecated',\n",
              "                                              random_state=None,\n",
              "                                              splitter='best'),\n",
              "             iid='deprecated', n_jobs=None,\n",
              "             param_grid={'max_depth': array([10, 12, 14, 16, 18]),\n",
              "                         'min_samples_split': array([2, 3, 4, 5, 6, 7])},\n",
              "             pre_dispatch='2*n_jobs', refit=True, return_train_score=False,\n",
              "             scoring=None, verbose=0)"
            ]
          },
          "metadata": {
            "tags": []
          },
          "execution_count": 92
        }
      ]
    },
    {
      "cell_type": "code",
      "metadata": {
        "id": "9MQF8Ep-ovRE",
        "colab_type": "code",
        "colab": {
          "base_uri": "https://localhost:8080/",
          "height": 170
        },
        "outputId": "be33215d-6194-4c94-a231-d7ab60e9bdd3"
      },
      "source": [
        "print('accuracy_score для обучающего набора:', acuracy(y_train, grsrch_dt.best_estimator_.predict(X_train)))\n",
        "print('accuracy_score для тестового набора :', acuracy(y_test, grsrch_dt.best_estimator_.predict(X_test)), '\\n')\n",
        "print('precission_score для обучающего набора:', precision(y_train, grsrch_dt.best_estimator_.predict(X_train)))\n",
        "print('precission_score для тестового набора :', precision(y_test, grsrch_dt.best_estimator_.predict(X_test)), '\\n')\n",
        "print('recall_score для обучающего набора:', recall(y_train, grsrch_dt.best_estimator_.predict(X_train)))\n",
        "print('recall_score для тестового набора :', recall(y_test, grsrch_dt.best_estimator_.predict(X_test)), '\\n')"
      ],
      "execution_count": 93,
      "outputs": [
        {
          "output_type": "stream",
          "text": [
            "accuracy_score для обучающего набора: 0.9824253075571178\n",
            "accuracy_score для тестового набора : 0.7412587412587412 \n",
            "\n",
            "precission_score для обучающего набора: 1.0\n",
            "precission_score для тестового набора : 0.7090909090909091 \n",
            "\n",
            "recall_score для обучающего набора: 0.956140350877193\n",
            "recall_score для тестового набора : 0.65 \n",
            "\n"
          ],
          "name": "stdout"
        }
      ]
    },
    {
      "cell_type": "markdown",
      "metadata": {
        "id": "stq8JOHrOGCu",
        "colab_type": "text"
      },
      "source": [
        "### Как видно из значений метрик качества, после примения метода GridSearchCV значения качество модели улучшилось "
      ]
    },
    {
      "cell_type": "code",
      "metadata": {
        "id": "yYLgJ9cGpuHQ",
        "colab_type": "code",
        "colab": {}
      },
      "source": [
        "def plot_tree_regression(X_train, y_train, X_test):\n",
        "    \"\"\"\n",
        "    Построение деревьев и вывод графиков для заданного датасета\n",
        "    \"\"\"\n",
        "\n",
        "    # Обучение регрессионной модели\n",
        "    regr_1 = DecisionTreeRegressor(max_depth=3)\n",
        "    regr_2 = DecisionTreeRegressor(max_depth=10)\n",
        "    regr_1.fit(X_train, y_train)\n",
        "    regr_2.fit(X_train, y_train)\n",
        "\n",
        "    # Предсказание\n",
        "    y_1 = regr_1.predict(X_test)\n",
        "    y_2 = regr_2.predict(X_test)\n",
        "\n",
        "    # Вывод графика\n",
        "    fig, ax = plt.subplots(figsize=(15,7))\n",
        "    plt.scatter(X_train, y_train, s=20, edgecolor=\"black\", c=\"darkorange\", label=\"Данные\")\n",
        "    plt.plot(X_test, y_1, color=\"cornflowerblue\", label=\"max_depth=3\", linewidth=2)\n",
        "    plt.plot(X_test, y_2, color=\"yellowgreen\", label=\"max_depth=10\", linewidth=2)\n",
        "    plt.xlabel(\"Данные\")\n",
        "    plt.ylabel(\"Целевой признак\")\n",
        "    plt.title(\"Регрессия на основе дерева решений\")\n",
        "    plt.legend()\n",
        "    plt.show()"
      ],
      "execution_count": 0,
      "outputs": []
    },
    {
      "cell_type": "code",
      "metadata": {
        "id": "I6UKnV-dp19X",
        "colab_type": "code",
        "colab": {}
      },
      "source": [
        "Image(get_png_tree(boston_tree_regr, df_boston.columns), height=\"500\")"
      ],
      "execution_count": 0,
      "outputs": []
    }
  ]
}