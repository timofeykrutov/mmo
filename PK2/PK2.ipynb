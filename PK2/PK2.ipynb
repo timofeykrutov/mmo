{
  "nbformat": 4,
  "nbformat_minor": 0,
  "metadata": {
    "colab": {
      "name": "clustering_test.ipynb",
      "provenance": []
    },
    "kernelspec": {
      "name": "python3",
      "display_name": "Python 3"
    }
  },
  "cells": [
    {
      "cell_type": "code",
      "metadata": {
        "id": "DMr-Ha0Lfl2U",
        "colab_type": "code",
        "colab": {}
      },
      "source": [
        "import numpy as np\n",
        "import pandas as pd\n",
        "from typing import Dict, Tuple\n",
        "from scipy import stats\n",
        "from IPython.display import Image\n",
        "from sklearn.datasets import load_iris, load_boston\n",
        "from sklearn.feature_extraction.text import CountVectorizer, TfidfVectorizer\n",
        "from sklearn.model_selection import train_test_split\n",
        "from sklearn.neighbors import KNeighborsRegressor, KNeighborsClassifier\n",
        "from sklearn.linear_model import LogisticRegression\n",
        "from sklearn.model_selection import GridSearchCV, RandomizedSearchCV\n",
        "from sklearn.metrics import accuracy_score, balanced_accuracy_score\n",
        "from sklearn.metrics import precision_score, recall_score, f1_score, classification_report\n",
        "from sklearn.metrics import confusion_matrix\n",
        "from sklearn.model_selection import cross_val_score\n",
        "from sklearn.pipeline import Pipeline\n",
        "from sklearn.metrics import mean_absolute_error, mean_squared_error, mean_squared_log_error, median_absolute_error, r2_score \n",
        "from sklearn.metrics import roc_curve, roc_auc_score\n",
        "from sklearn.svm import SVC, NuSVC, LinearSVC, OneClassSVM, SVR, NuSVR, LinearSVR\n",
        "import seaborn as sns\n",
        "import matplotlib.pyplot as plt\n",
        "%matplotlib inline \n",
        "sns.set(style=\"ticks\")"
      ],
      "execution_count": 0,
      "outputs": []
    },
    {
      "cell_type": "code",
      "metadata": {
        "id": "ZakUSoOilLV_",
        "colab_type": "code",
        "colab": {
          "base_uri": "https://localhost:8080/",
          "height": 419
        },
        "outputId": "4c067489-245e-48f2-945d-6dc089d67583"
      },
      "source": [
        "df = pd.read_csv('deceptive-opinion.csv')\n",
        "df"
      ],
      "execution_count": 43,
      "outputs": [
        {
          "output_type": "execute_result",
          "data": {
            "text/html": [
              "<div>\n",
              "<style scoped>\n",
              "    .dataframe tbody tr th:only-of-type {\n",
              "        vertical-align: middle;\n",
              "    }\n",
              "\n",
              "    .dataframe tbody tr th {\n",
              "        vertical-align: top;\n",
              "    }\n",
              "\n",
              "    .dataframe thead th {\n",
              "        text-align: right;\n",
              "    }\n",
              "</style>\n",
              "<table border=\"1\" class=\"dataframe\">\n",
              "  <thead>\n",
              "    <tr style=\"text-align: right;\">\n",
              "      <th></th>\n",
              "      <th>deceptive</th>\n",
              "      <th>hotel</th>\n",
              "      <th>polarity</th>\n",
              "      <th>source</th>\n",
              "      <th>text</th>\n",
              "    </tr>\n",
              "  </thead>\n",
              "  <tbody>\n",
              "    <tr>\n",
              "      <th>0</th>\n",
              "      <td>truthful</td>\n",
              "      <td>conrad</td>\n",
              "      <td>positive</td>\n",
              "      <td>TripAdvisor</td>\n",
              "      <td>We stayed for a one night getaway with family ...</td>\n",
              "    </tr>\n",
              "    <tr>\n",
              "      <th>1</th>\n",
              "      <td>truthful</td>\n",
              "      <td>hyatt</td>\n",
              "      <td>positive</td>\n",
              "      <td>TripAdvisor</td>\n",
              "      <td>Triple A rate with upgrade to view room was le...</td>\n",
              "    </tr>\n",
              "    <tr>\n",
              "      <th>2</th>\n",
              "      <td>truthful</td>\n",
              "      <td>hyatt</td>\n",
              "      <td>positive</td>\n",
              "      <td>TripAdvisor</td>\n",
              "      <td>This comes a little late as I'm finally catchi...</td>\n",
              "    </tr>\n",
              "    <tr>\n",
              "      <th>3</th>\n",
              "      <td>truthful</td>\n",
              "      <td>omni</td>\n",
              "      <td>positive</td>\n",
              "      <td>TripAdvisor</td>\n",
              "      <td>The Omni Chicago really delivers on all fronts...</td>\n",
              "    </tr>\n",
              "    <tr>\n",
              "      <th>4</th>\n",
              "      <td>truthful</td>\n",
              "      <td>hyatt</td>\n",
              "      <td>positive</td>\n",
              "      <td>TripAdvisor</td>\n",
              "      <td>I asked for a high floor away from the elevato...</td>\n",
              "    </tr>\n",
              "    <tr>\n",
              "      <th>...</th>\n",
              "      <td>...</td>\n",
              "      <td>...</td>\n",
              "      <td>...</td>\n",
              "      <td>...</td>\n",
              "      <td>...</td>\n",
              "    </tr>\n",
              "    <tr>\n",
              "      <th>1595</th>\n",
              "      <td>deceptive</td>\n",
              "      <td>intercontinental</td>\n",
              "      <td>negative</td>\n",
              "      <td>MTurk</td>\n",
              "      <td>Problems started when I booked the InterContin...</td>\n",
              "    </tr>\n",
              "    <tr>\n",
              "      <th>1596</th>\n",
              "      <td>deceptive</td>\n",
              "      <td>amalfi</td>\n",
              "      <td>negative</td>\n",
              "      <td>MTurk</td>\n",
              "      <td>The Amalfi Hotel has a beautiful website and i...</td>\n",
              "    </tr>\n",
              "    <tr>\n",
              "      <th>1597</th>\n",
              "      <td>deceptive</td>\n",
              "      <td>intercontinental</td>\n",
              "      <td>negative</td>\n",
              "      <td>MTurk</td>\n",
              "      <td>The Intercontinental Chicago Magnificent Mile ...</td>\n",
              "    </tr>\n",
              "    <tr>\n",
              "      <th>1598</th>\n",
              "      <td>deceptive</td>\n",
              "      <td>palmer</td>\n",
              "      <td>negative</td>\n",
              "      <td>MTurk</td>\n",
              "      <td>The Palmer House Hilton, while it looks good i...</td>\n",
              "    </tr>\n",
              "    <tr>\n",
              "      <th>1599</th>\n",
              "      <td>deceptive</td>\n",
              "      <td>amalfi</td>\n",
              "      <td>negative</td>\n",
              "      <td>MTurk</td>\n",
              "      <td>As a former Chicagoan, I'm appalled at the Ama...</td>\n",
              "    </tr>\n",
              "  </tbody>\n",
              "</table>\n",
              "<p>1600 rows × 5 columns</p>\n",
              "</div>"
            ],
            "text/plain": [
              "      deceptive  ...                                               text\n",
              "0      truthful  ...  We stayed for a one night getaway with family ...\n",
              "1      truthful  ...  Triple A rate with upgrade to view room was le...\n",
              "2      truthful  ...  This comes a little late as I'm finally catchi...\n",
              "3      truthful  ...  The Omni Chicago really delivers on all fronts...\n",
              "4      truthful  ...  I asked for a high floor away from the elevato...\n",
              "...         ...  ...                                                ...\n",
              "1595  deceptive  ...  Problems started when I booked the InterContin...\n",
              "1596  deceptive  ...  The Amalfi Hotel has a beautiful website and i...\n",
              "1597  deceptive  ...  The Intercontinental Chicago Magnificent Mile ...\n",
              "1598  deceptive  ...  The Palmer House Hilton, while it looks good i...\n",
              "1599  deceptive  ...  As a former Chicagoan, I'm appalled at the Ama...\n",
              "\n",
              "[1600 rows x 5 columns]"
            ]
          },
          "metadata": {
            "tags": []
          },
          "execution_count": 43
        }
      ]
    },
    {
      "cell_type": "code",
      "metadata": {
        "id": "zHEHWdlfm6tj",
        "colab_type": "code",
        "colab": {
          "base_uri": "https://localhost:8080/",
          "height": 119
        },
        "outputId": "6b5299b5-030b-486a-a8b1-06e514f1ea3a"
      },
      "source": [
        "df.isna().sum()\n"
      ],
      "execution_count": 44,
      "outputs": [
        {
          "output_type": "execute_result",
          "data": {
            "text/plain": [
              "deceptive    0\n",
              "hotel        0\n",
              "polarity     0\n",
              "source       0\n",
              "text         0\n",
              "dtype: int64"
            ]
          },
          "metadata": {
            "tags": []
          },
          "execution_count": 44
        }
      ]
    },
    {
      "cell_type": "code",
      "metadata": {
        "id": "KVx_CDRfqbdX",
        "colab_type": "code",
        "colab": {
          "base_uri": "https://localhost:8080/",
          "height": 34
        },
        "outputId": "073b04f9-ceec-43ae-c05c-f60163a30d1e"
      },
      "source": [
        "df.columns"
      ],
      "execution_count": 45,
      "outputs": [
        {
          "output_type": "execute_result",
          "data": {
            "text/plain": [
              "Index(['deceptive', 'hotel', 'polarity', 'source', 'text'], dtype='object')"
            ]
          },
          "metadata": {
            "tags": []
          },
          "execution_count": 45
        }
      ]
    },
    {
      "cell_type": "code",
      "metadata": {
        "id": "FgGYG4Atqzke",
        "colab_type": "code",
        "colab": {
          "base_uri": "https://localhost:8080/",
          "height": 34
        },
        "outputId": "97302495-e4b1-4225-8f6a-51cbc3596808"
      },
      "source": [
        "df['deceptive'].unique()"
      ],
      "execution_count": 46,
      "outputs": [
        {
          "output_type": "execute_result",
          "data": {
            "text/plain": [
              "array(['truthful', 'deceptive'], dtype=object)"
            ]
          },
          "metadata": {
            "tags": []
          },
          "execution_count": 46
        }
      ]
    },
    {
      "cell_type": "code",
      "metadata": {
        "id": "FQT9mg2SqbhX",
        "colab_type": "code",
        "colab": {
          "base_uri": "https://localhost:8080/",
          "height": 335
        },
        "outputId": "2de115bf-9571-4449-ea47-221bba105ae1"
      },
      "source": [
        "s1 = df[df.deceptive  == 'truthful'].text.apply(len)\n",
        "s2 = df[df.deceptive == 'deceptive'].text.apply(len)\n",
        "sns.distplot(s1,label='truthful')\n",
        "sns.distplot(s2,label='deceptive')\n",
        "\n",
        "sns.set()\n",
        "\n",
        "plt.title('Lenght Distribution')\n",
        "plt.legend()\n",
        "\n",
        "print('truthful mean: %s' % s1.mean())\n",
        "print(f'deceptive mean: {s2.mean()}')"
      ],
      "execution_count": 47,
      "outputs": [
        {
          "output_type": "stream",
          "text": [
            "truthful mean: 821.015\n",
            "deceptive mean: 791.4325\n"
          ],
          "name": "stdout"
        },
        {
          "output_type": "display_data",
          "data": {
            "image/png": "[encoded data removed]",
            "text/plain": [
              "<Figure size 432x288 with 1 Axes>"
            ]
          },
          "metadata": {
            "tags": []
          }
        }
      ]
    },
    {
      "cell_type": "code",
      "metadata": {
        "id": "tMa00-xVqbmn",
        "colab_type": "code",
        "colab": {
          "base_uri": "https://localhost:8080/",
          "height": 335
        },
        "outputId": "656b0e34-6947-4edd-c606-245de16db1ce"
      },
      "source": [
        "s1 = df[df.polarity  == 'positive'].text.apply(len)\n",
        "s2 = df[df.polarity == 'negative'].text.apply(len)\n",
        "sns.distplot(s1,label='positive')\n",
        "sns.distplot(s2,label='negative')\n",
        "\n",
        "sns.set()\n",
        "\n",
        "plt.title('Length Distribution')\n",
        "plt.legend()\n",
        "\n",
        "print('positive mean: %s' % s1.mean())\n",
        "print(f'negative mean: {s2.mean()}')"
      ],
      "execution_count": 81,
      "outputs": [
        {
          "output_type": "stream",
          "text": [
            "positive mean: 656.5275\n",
            "negative mean: 955.92\n"
          ],
          "name": "stdout"
        },
        {
          "output_type": "display_data",
          "data": {
            "image/png": "[encoded data removed]",
            "text/plain": [
              "<Figure size 432x288 with 1 Axes>"
            ]
          },
          "metadata": {
            "tags": []
          }
        }
      ]
    },
    {
      "cell_type": "code",
      "metadata": {
        "id": "AvnwtfP4qbql",
        "colab_type": "code",
        "colab": {
          "base_uri": "https://localhost:8080/",
          "height": 318
        },
        "outputId": "acaa8822-1d7f-4e34-8589-0182eae1d703"
      },
      "source": [
        "s1 = df[df.polarity == 'positive']['text'].str.replace(r'\\w+', '').str.len()\n",
        "s2 = df[df.polarity == 'negative']['text'].str.replace(r'\\w+', '').str.len()\n",
        "\n",
        "sns.distplot(s1, label='positive')\n",
        "sns.distplot(s2, label='negative')\n",
        "\n",
        "plt.title('Non-Digits Distribution')\n",
        "plt.legend()"
      ],
      "execution_count": 49,
      "outputs": [
        {
          "output_type": "execute_result",
          "data": {
            "text/plain": [
              "<matplotlib.legend.Legend at 0x7f6dfbb55390>"
            ]
          },
          "metadata": {
            "tags": []
          },
          "execution_count": 49
        },
        {
          "output_type": "display_data",
          "data": {
            "image/png": "[encoded data removed]",
            "text/plain": [
              "<Figure size 432x288 with 1 Axes>"
            ]
          },
          "metadata": {
            "tags": []
          }
        }
      ]
    },
    {
      "cell_type": "code",
      "metadata": {
        "id": "wXz4smav1KN6",
        "colab_type": "code",
        "colab": {
          "base_uri": "https://localhost:8080/",
          "height": 34
        },
        "outputId": "93746612-1b1d-4a72-b2e9-87ca3cd3d196"
      },
      "source": [
        "from sklearn.preprocessing import LabelEncoder\n",
        "le = LabelEncoder()\n",
        "y = df.polarity\n",
        "\n",
        "y = le.fit_transform(y)\n",
        "X = df.drop(columns='polarity')\n",
        "y"
      ],
      "execution_count": 85,
      "outputs": [
        {
          "output_type": "execute_result",
          "data": {
            "text/plain": [
              "array([1, 1, 1, ..., 0, 0, 0])"
            ]
          },
          "metadata": {
            "tags": []
          },
          "execution_count": 85
        }
      ]
    },
    {
      "cell_type": "code",
      "metadata": {
        "id": "Gz0imaqQqbsT",
        "colab_type": "code",
        "colab": {}
      },
      "source": [
        "def accuracy_score_for_classes(\n",
        "    y_true: np.ndarray, \n",
        "    y_pred: np.ndarray) -> Dict[int, float]:\n",
        "    \"\"\"\n",
        "    Вычисление метрики accuracy для каждого класса\n",
        "    y_true - истинные значения классов\n",
        "    y_pred - предсказанные значения классов\n",
        "    Возвращает словарь: ключ - метка класса, \n",
        "    значение - Accuracy для данного класса\n",
        "    \"\"\"\n",
        "    # Для удобства фильтрации сформируем Pandas DataFrame \n",
        "    d = {'t': y_true, 'p': y_pred}\n",
        "    df = pd.DataFrame(data=d)\n",
        "    # Метки классов\n",
        "    classes = np.unique(y_true)\n",
        "    # Результирующий словарь\n",
        "    res = dict()\n",
        "    # Перебор меток классов\n",
        "    for c in classes:\n",
        "        # отфильтруем данные, которые соответствуют \n",
        "        # текущей метке класса в истинных значениях\n",
        "        temp_data_flt = df[df['t']==c]\n",
        "        # расчет accuracy для заданной метки класса\n",
        "        temp_acc = accuracy_score(\n",
        "            temp_data_flt['t'].values, \n",
        "            temp_data_flt['p'].values)\n",
        "        # сохранение результата в словарь\n",
        "        res[c] = temp_acc\n",
        "    return res\n",
        "\n",
        "def roc_score_for_classes(\n",
        "    y_true: np.ndarray, \n",
        "    y_pred: np.ndarray) -> Dict[int, float]:\n",
        "    \"\"\"\n",
        "    Вычисление метрики accuracy для каждого класса\n",
        "    y_true - истинные значения классов\n",
        "    y_pred - предсказанные значения классов\n",
        "    Возвращает словарь: ключ - метка класса, \n",
        "    значение - Accuracy для данного класса\n",
        "    \"\"\"\n",
        "    # Для удобства фильтрации сформируем Pandas DataFrame \n",
        "    d = {'t': y_true, 'p': y_pred}\n",
        "    df = pd.DataFrame(data=d)\n",
        "    # Метки классов\n",
        "    classes = np.unique(y_true)\n",
        "    # Результирующий словарь\n",
        "    res = dict()\n",
        "    # Перебор меток классов\n",
        "    for c in classes:\n",
        "        # отфильтруем данные, которые соответствуют \n",
        "        # текущей метке класса в истинных значениях\n",
        "        temp_data_flt = df[df['t']==c]\n",
        "        # расчет accuracy для заданной метки класса\n",
        "        try:\n",
        "            temp_acc = roc_auc_score(\n",
        "            temp_data_flt['t'].values, \n",
        "            temp_data_flt['p'].values)\n",
        "        # сохранение результата в словарь\n",
        "            res[c] = temp_acc\n",
        "        except ValueError:\n",
        "            pass\n",
        "        \n",
        "    return res\n",
        "\n",
        "def print_accuracy_score_for_classes(\n",
        "    y_true: np.ndarray, \n",
        "    y_pred: np.ndarray):\n",
        "    \"\"\"\n",
        "    Вывод метрики accuracy для каждого класса\n",
        "    \"\"\"\n",
        "    accs = accuracy_score_for_classes(y_true, y_pred)\n",
        "    if len(accs)>0:\n",
        "        print('Метка \\t Accuracy')\n",
        "    for i in accs:\n",
        "        print('{} \\t {}'.format(i, accs[i]))\n",
        "\n",
        "def print_roc_auc(y_true: np.ndarray, \n",
        "    y_pred: np.ndarray):\n",
        "    accs = roc_score_for_classes(y_true, y_pred)\n",
        "    if len(accs)>0:\n",
        "        print('Метка \\t Accuracy')\n",
        "    for i in accs:\n",
        "        print('{} \\t {}'.format(i, accs[i]))"
      ],
      "execution_count": 0,
      "outputs": []
    },
    {
      "cell_type": "code",
      "metadata": {
        "id": "0FBfTdiAqbuy",
        "colab_type": "code",
        "colab": {
          "base_uri": "https://localhost:8080/",
          "height": 275
        },
        "outputId": "8e366109-9b72-4cfb-850b-1b45366721c8"
      },
      "source": [
        "# Сформируем общий словарь для обучения моделей из обучающей и тестовой выборки\n",
        "vocab_list = df['text'].tolist()\n",
        "vocab_list[1:15]"
      ],
      "execution_count": 54,
      "outputs": [
        {
          "output_type": "execute_result",
          "data": {
            "text/plain": [
              "['Triple A rate with upgrade to view room was less than $200 which also included breakfast vouchers. Had a great view of river, lake, Wrigley Bldg. & Tribune Bldg. Most major restaurants, Shopping, Sightseeing attractions within walking distance. Large room with a very comfortable bed. \\n',\n",
              " \"This comes a little late as I'm finally catching up on my reviews from the past several months:) A dear friend and I stayed at the Hyatt Regency in late October 2007 for one night while visiting a friend and her husband from out of town. This hotel is perfect, IMO. Easy check in and check out. Lovely, clean, comfortable rooms with great views of the city. I know this area pretty well and it's very convenient to many downtown Chicago attractions. We had dinner and went clubing with our friends around Division St.. We had no problems getting cabs back and forth to the Hyatt and there's even public transportation right near by but we didn't bother since we only needed cabs from and to the hotel. Parking, as is usual for Chicago, was expensive but we were able to get our car out quickly (however, we left on a Sunday morning, not exactly a high traffic time although it was a Bears homegame day, so a bit busier than usual I would think). No problems at all and the best part is that we got a rate of $100 through Hotwire, a downright steal for this area of Chicago and the quality of the hotel. \\n\",\n",
              " \"The Omni Chicago really delivers on all fronts, from the spaciousness of the rooms to the helpful staff to the prized location on Michigan Avenue. While this address in Chicago requires a high level of quality, the Omni delivers. Check in for myself and a whole group of people with me was under 3 minutes, the staff had plentiful recommendations for dining and events, and the rooms are some of the largest you'll find at this price range in Chicago. Even the 'standard' room has a separate living area and work desk. The fitness center has free weights, weight machines, and two rows of cardio equipment. I shared the room with 7 others and did not feel cramped in any way! All in all, a great property! \\n\",\n",
              " \"I asked for a high floor away from the elevator and that is what I got. The room was pleasantly decorated, functional and very clean. I didn't need a whole lot of service but when I did they were pleasant and prompt. I used the fitness center which was well equipped and everything was in working order. It is in a great location at one end of the Michigan Avenue shopping district. \\n\",\n",
              " \"I stayed at the Omni for one night following a business meeting at another downtown Chicago hotel. I was completely impressed by the service; all personnel during my stay were absolutely outstanding. I checked in quite early (no problem) and was efficiently checked in. My room had a somewhat heavy scent of air freshener (the ONLY negative from the entire stay), which was managed reasonably well by opening the windows. I don't generally require much during my hotel stays, but suffice to say the doorman, housekeeping, the night manager and bartender at 676, the day waiter at 676, and the concierge were amazing - I never waited more than about 30 seconds for anything. The room was very comfy and the amenities were superior. One very tiny complaint - there was no wastebasket near the sink or near the wet bar - had to walk to the other end of the bathroom or sitting room to dispose of kleenex/coffee paraphernalia. One wastebasket would make all the difference. All that said - what a great hotel!! Thanks, Omni - I had a great stay! \\n\",\n",
              " 'We stayed in the Conrad for 4 nights just before Thanksgiving. We had a corner room overlooking N Michigan Av and the Tribune Building. To say this is a 5 star hotel is to damn this place with faint praise - it is wonderful. The staff were unbelievably helpful. The standard of the room was superb - HD plasma screens, luxury bedlinens, iPod radio, huge bathroom. Location is unbeatable - right in the heart of everything - watched the whole Light Festival parade from the window. Breakfasts were excellent - no help yourself buffet here - with full and attentive table service. Would have no hesitation recommending or staying again in this hotel - 5 out of 5. \\n',\n",
              " 'Just got back from 2 days up in Chicago shopping with girlfriends. First time I have stayed at the Omni. I did so because I saw a $129.00 rate that included $25.00 of free food on Travelzoo. The three of us (55 year olds) all stayed in one suite with 2 double beds and a VERY comfortable pull out sofa. We had plenty of room. Food in the restaurant was great, service was outstanding from everone we came into contact with, early morning delivery of free coffee, juice and hot chocolate was fabulous and recommendations from the staff on where to eat, time of movies, shopping areas, etc was really helpful. Need I mention the outstanding location? Simply the best! We all decided that the Omni is our new favorite hotel. \\n',\n",
              " \"We arrived at the Omni on 2nd September for a 6 day stay. I took ill when I left the plane after travelling from Manchester so I saw more of the room than I anticipated. I couldn't go out for 4 days. The room was spacious and clean. The bed was extremely comfortable. The bathroom was large and very clean. What more could you ask. We had coffee and juice left outside our door every morning at the time we requested. I managed to go to the 5th floor to see the sun terrace (outside the gym) Having a sun terrace in a city hotel is a great idea but the terrace was a bit grim. A few sunbeds on a concrete floor. There was also noise from an air conditioning unit. It could do with a bit of cheering up. What I saw of Chicago was very pleasing, it has something for everyone. Would I go back to the Omni? yes I would. \\n\",\n",
              " 'On our visit to Chicago, we chose the Hyatt due to its location in downtown, within walking distance to most major attractions, such as Sears Tower, Magnificent Mile, Grant/Millenium Parks, etc. Subway & bus stops very close by to travel to other locations in the city . Overall the hotel was very nice, clean, and at a great location. Was in a safe area. Went to beautiful Wrigley Field and Soldier Field and saw both teams play. I love Chicago and would defenitely stay here again! \\n',\n",
              " \"I stayed at the Fairmont Chicago for one night - I'm a frequent business traveler and am very familiar with travel rituals. I checked in late (almost 10pm) due to flight cancellations from my home airport -- Atlanta. I took the shuttle to the airport (best option in lieu of the over priced taxis), and it was my first time staying at the hotel. Upon arrival, I immediately noticed the entrance, which appeared very welcoming and warm to me. I checked in with no problems -- and the desk person even asked if I'd prefer a king or double (reconfirming my reservation preference). I always take the king when I can, and the bed was fantastic! It was suited with great linen and these incredible down & feather pillows named Encompass made by The Pillow Factory -- I checked the tags, since I plan to buy some! I ate dinner at the hotel restaurant - Aria, which they mention they like to be considered separate from the hotel -- and YES, it does stand out all on it's own. The food is Asian fusion, and truly wonderful -- as a gourmand and life-long foodie, I appreciate great food when I taste it! The hotel service was good as well. Only drawback was the breakfast buffet at the restaurant -- seems they need to stick with their dinner theme solely. They missed the mark on relatively simply things like scrambled eggs on the buffet, which tasted a bit 'metallic'. But they made up for it by getting a special order made immediately after I passed on the buffet. I would highly recommend this hotel -- it has atmosphere and a great view (if you can get a room with one), fabulous dinner -- just pass on the breakfast buffet. \\n\",\n",
              " 'Ok, so first trip to chicago and I was a litlle worried about the hotel and the location, finally I decided on the CONRAD and wath a good experience i had, I booked a king deluxe room on the 6th floor, view was not amazing but that was the only coplaint i could had, room is nice, bath was all appliances and good size, good plasma tv, free internet, we asked one day for breaksfast and amazing food! so overall and for the price aroufn 220 It was a great surprise, the locating was very good a few blocks from everything and very quiet hotel \\n',\n",
              " \"We arrived at 10:30 am on a Friday, and they had a room ready for us by 11:30 am, mind you check in is not until 3:00pm. We got our room on Priceline for $65.00 per night and stayed 3 nights. We were upgraded - for free - to a suite. I think I was so blown away by that, that I forgot to thank them at check-in! Our room was fantastic. It also had a wet bar and a fridge. The bathroom was quite large and had a nice sized closet with many hangers. I knew from previous reviews to not touch the mini-bar. The bed and pillows were very comfortable. The room was very clean. Every employee there went out of their way to be friendly and helpful. We stayed on the 25th floor of the east tower and had a quiet room. Yes, you could hear people in the hallways, but only because they were rude and were yelling. These were not children, they were adults. I don't know why everyone complains about $48 for parking. This is Chicago and every other hotel we saw charged just as much, some without in/out privledges. We didn't use any of the restaurants or the health club. We tried to eat at the Corner Bakery but it was too crowded. Breakfast at nearby Houlihan's had a buffet for $9.99 per person. Also the grocery store behind the hotel is great. There is a 7-11 not too far away. I don't know why there are so many bad reviews on this hotel. Yes, it's a big hotel. If you don't want a busy lobby, don't stay in a 2,000 plus room hotel!! I loved the Hotel and would recommend it to anyone. Not one problem. Wasn't too busy for me. Would stay here again in a heartbeat. \\n\",\n",
              " \"My wife and I came to spend the weekend in downtown Chicago for shopping and we found this Conrad hotel well located close to everything downtown and of a size that doesn't make you feel lost in the Convention world. We have had this feeling when staying at larger hotels in the past. Our Suite has view on Michigan avenue with a bit of the Lake at the end. Staff was very professional, pleasant and friendly making us feel very comfortable. Internet is free n the rooms and I am making my review from there. \\n\",\n",
              " \"I got a Sunday night stay for only $50 off of Priceline.com, so it would be hard to complain...but this was truly a great hotel, even if I paid double. The first impression you get when you walk through the sliding doors of the Hyatt Regency Chicago is WOW. The lobby is beautiful with a upscale mall type of look to it with an open area that has a restaurant, plenty of couches,seats etc to people watch and a lake with water fountains. You take the escalator to the concierge/directory/check in area. The hotel let me check in at 12pm (I had a 3pm check in time). I suggest you call ahead like I did so they know you are coming early.The women at the desk was friendly and when I requested a higher level floor she was more than happy to look it up and even told me 'I have a room on the 18th floor with a veiw of the river or you can go higher with no view'. I thought it was pretty nice to give me that information so that I wouldnt get stuck with a room with a view of a wall. The rooms are big (I had a doubles room) The beds were beautiful with great pillows,blankets,headboards etc. An Ipod alarm clock was a nice 21st century touch to the room. Great to plug in your ipod, listen to some music and get ready for a night out or when relaxing after a long day of touring Chicago. The view was very nice and the bathroom was spotless and had great toiletries. Another great feature is the concierge area's computers that gives you access to printing your boarding pass before you get to the airport. You simply look at the screen, click on your airline icon and following the instructions. I had my boarding passes in about a minute. Came in handy when I got to OHare and was able to skip a long line of frustrated passengers. I was only in the hotel for 1 day, but it was by far one of the better hotel experiences I have had and I travel alot. It is a business hotel, but definitely a great choice for families and couples. Definitely would stay here again when Im passing through Chicago. \\n\"]"
            ]
          },
          "metadata": {
            "tags": []
          },
          "execution_count": 54
        }
      ]
    },
    {
      "cell_type": "code",
      "metadata": {
        "id": "3lsNU9olqbzh",
        "colab_type": "code",
        "colab": {
          "base_uri": "https://localhost:8080/",
          "height": 34
        },
        "outputId": "951277b3-9b86-4f21-b996-bc84f9a6f947"
      },
      "source": [
        "vocabVect = CountVectorizer()\n",
        "vocabVect.fit(vocab_list)\n",
        "corpusVocab = vocabVect.vocabulary_\n",
        "print('Количество сформированных признаков - {}'.format(len(corpusVocab)))"
      ],
      "execution_count": 57,
      "outputs": [
        {
          "output_type": "stream",
          "text": [
            "Количество сформированных признаков - 9570\n"
          ],
          "name": "stdout"
        }
      ]
    },
    {
      "cell_type": "code",
      "metadata": {
        "id": "yhhSVBpMqb1W",
        "colab_type": "code",
        "colab": {
          "base_uri": "https://localhost:8080/",
          "height": 170
        },
        "outputId": "fa2fb0bf-c96c-4936-9c2a-41ebc6585c91"
      },
      "source": [
        "for i in list(corpusVocab)[1:10]:\n",
        "    print('{}={}'.format(i, corpusVocab[i]))"
      ],
      "execution_count": 59,
      "outputs": [
        {
          "output_type": "stream",
          "text": [
            "stayed=8064\n",
            "for=3556\n",
            "one=5865\n",
            "night=5677\n",
            "getaway=3769\n",
            "with=9443\n",
            "family=3323\n",
            "on=5863\n",
            "thursday=8599\n"
          ],
          "name": "stdout"
        }
      ]
    },
    {
      "cell_type": "markdown",
      "metadata": {
        "id": "Mml1TrdJv4aC",
        "colab_type": "text"
      },
      "source": [
        "###Векторизация текста"
      ]
    },
    {
      "cell_type": "markdown",
      "metadata": {
        "id": "2SwWAdpQwI8Z",
        "colab_type": "text"
      },
      "source": [
        "Для векторизации можно использовать простой класс CountVectorizer. Подсчитывает количество слов словаря, входящих в данный текст"
      ]
    },
    {
      "cell_type": "code",
      "metadata": {
        "id": "NFAP_LQZqbjx",
        "colab_type": "code",
        "colab": {}
      },
      "source": [
        "test_features = vocabVect.transform(vocab_list)"
      ],
      "execution_count": 0,
      "outputs": []
    },
    {
      "cell_type": "code",
      "metadata": {
        "id": "h__Fi2MYlxaY",
        "colab_type": "code",
        "colab": {
          "base_uri": "https://localhost:8080/",
          "height": 51
        },
        "outputId": "3fa17baa-6243-4132-a2ab-b36ceb7303c4"
      },
      "source": [
        "test_features"
      ],
      "execution_count": 61,
      "outputs": [
        {
          "output_type": "execute_result",
          "data": {
            "text/plain": [
              "<1600x9570 sparse matrix of type '<class 'numpy.int64'>'\n",
              "\twith 146467 stored elements in Compressed Sparse Row format>"
            ]
          },
          "metadata": {
            "tags": []
          },
          "execution_count": 61
        }
      ]
    },
    {
      "cell_type": "code",
      "metadata": {
        "id": "Eei5j_eynBBp",
        "colab_type": "code",
        "colab": {
          "base_uri": "https://localhost:8080/",
          "height": 136
        },
        "outputId": "ce0fcea4-08e8-4dc7-ac6d-290aa137aa14"
      },
      "source": [
        "test_features.todense()"
      ],
      "execution_count": 62,
      "outputs": [
        {
          "output_type": "execute_result",
          "data": {
            "text/plain": [
              "matrix([[0, 0, 0, ..., 0, 0, 0],\n",
              "        [0, 0, 0, ..., 0, 0, 0],\n",
              "        [0, 0, 0, ..., 0, 0, 0],\n",
              "        ...,\n",
              "        [1, 0, 0, ..., 0, 0, 0],\n",
              "        [0, 0, 0, ..., 0, 0, 0],\n",
              "        [0, 0, 0, ..., 0, 0, 0]])"
            ]
          },
          "metadata": {
            "tags": []
          },
          "execution_count": 62
        }
      ]
    },
    {
      "cell_type": "code",
      "metadata": {
        "id": "pI-OBRAbm9Eq",
        "colab_type": "code",
        "colab": {
          "base_uri": "https://localhost:8080/",
          "height": 34
        },
        "outputId": "37738280-9734-4b91-8379-38d4b90f3d2d"
      },
      "source": [
        "# Размер нулевой строки\n",
        "len(test_features.todense()[0].getA1())"
      ],
      "execution_count": 63,
      "outputs": [
        {
          "output_type": "execute_result",
          "data": {
            "text/plain": [
              "9570"
            ]
          },
          "metadata": {
            "tags": []
          },
          "execution_count": 63
        }
      ]
    },
    {
      "cell_type": "code",
      "metadata": {
        "id": "8_F0kI48gm8Q",
        "colab_type": "code",
        "colab": {}
      },
      "source": [
        "# Непустые значения нулевой строки\n",
        "[i for i in test_features.todense()[0].getA1() if i>0]"
      ],
      "execution_count": 0,
      "outputs": []
    },
    {
      "cell_type": "code",
      "metadata": {
        "id": "_l691_iQwcSQ",
        "colab_type": "code",
        "colab": {
          "base_uri": "https://localhost:8080/",
          "height": 527
        },
        "outputId": "6e030e1b-a73d-466f-89d2-0bda6561afe3"
      },
      "source": [
        "vocabVect.get_feature_names()[500:530]"
      ],
      "execution_count": 68,
      "outputs": [
        {
          "output_type": "execute_result",
          "data": {
            "text/plain": [
              "['agree',\n",
              " 'agreeable',\n",
              " 'agreed',\n",
              " 'agreement',\n",
              " 'ah',\n",
              " 'ahead',\n",
              " 'ahould',\n",
              " 'aid',\n",
              " 'aides',\n",
              " 'air',\n",
              " 'airfare',\n",
              " 'airline',\n",
              " 'airlines',\n",
              " 'airplane',\n",
              " 'airport',\n",
              " 'airports',\n",
              " 'airshow',\n",
              " 'airy',\n",
              " 'aka',\n",
              " 'akin',\n",
              " 'akk',\n",
              " 'al',\n",
              " 'alarm',\n",
              " 'alarmed',\n",
              " 'alas',\n",
              " 'albeit',\n",
              " 'albiet',\n",
              " 'alcoholic',\n",
              " 'alcove',\n",
              " 'alert']"
            ]
          },
          "metadata": {
            "tags": []
          },
          "execution_count": 68
        }
      ]
    },
    {
      "cell_type": "markdown",
      "metadata": {
        "id": "KsTYVfNxy19t",
        "colab_type": "text"
      },
      "source": [
        "Использование N-грамм"
      ]
    },
    {
      "cell_type": "code",
      "metadata": {
        "id": "UyNqNhjVy0px",
        "colab_type": "code",
        "colab": {
          "base_uri": "https://localhost:8080/",
          "height": 51
        },
        "outputId": "2a9e998e-6cde-4a1f-ed7a-a0b292c86ffe"
      },
      "source": [
        "ncv = CountVectorizer(ngram_range=(1,3))\n",
        "ngram_features = ncv.fit_transform(vocab_list)\n",
        "ngram_features"
      ],
      "execution_count": 70,
      "outputs": [
        {
          "output_type": "execute_result",
          "data": {
            "text/plain": [
              "<1600x257331 sparse matrix of type '<class 'numpy.int64'>'\n",
              "\twith 579998 stored elements in Compressed Sparse Row format>"
            ]
          },
          "metadata": {
            "tags": []
          },
          "execution_count": 70
        }
      ]
    },
    {
      "cell_type": "code",
      "metadata": {
        "id": "A1pUvP3ly6qe",
        "colab_type": "code",
        "colab": {
          "base_uri": "https://localhost:8080/",
          "height": 34
        },
        "outputId": "de33feb1-1ec0-4ffa-9db8-7bd859c75a4a"
      },
      "source": [
        "len(ncv.get_feature_names())"
      ],
      "execution_count": 71,
      "outputs": [
        {
          "output_type": "execute_result",
          "data": {
            "text/plain": [
              "257331"
            ]
          },
          "metadata": {
            "tags": []
          },
          "execution_count": 71
        }
      ]
    },
    {
      "cell_type": "code",
      "metadata": {
        "id": "c5ZnMW_py7UL",
        "colab_type": "code",
        "colab": {
          "base_uri": "https://localhost:8080/",
          "height": 357
        },
        "outputId": "ae1c64f8-78d1-487c-c289-d53a6818ccf7"
      },
      "source": [
        "# Теперь признаками являются N-граммы\n",
        "ncv.get_feature_names()[2000:2020]"
      ],
      "execution_count": 73,
      "outputs": [
        {
          "output_type": "execute_result",
          "data": {
            "text/plain": [
              "['500 certificate me',\n",
              " '500 dollars',\n",
              " '500 dollars for',\n",
              " '500 night',\n",
              " '500 night one',\n",
              " '500 paint',\n",
              " '500 paint scrape',\n",
              " '500 to',\n",
              " '500 to fix',\n",
              " '50pm',\n",
              " '50pm the',\n",
              " '50pm the bar',\n",
              " '51',\n",
              " '51 00',\n",
              " '51 00 night',\n",
              " '51 night',\n",
              " '51 night but',\n",
              " '51 night lobby',\n",
              " '52',\n",
              " '52 plasma']"
            ]
          },
          "metadata": {
            "tags": []
          },
          "execution_count": 73
        }
      ]
    },
    {
      "cell_type": "code",
      "metadata": {
        "id": "4FqDGSIuy-ol",
        "colab_type": "code",
        "colab": {
          "base_uri": "https://localhost:8080/",
          "height": 51
        },
        "outputId": "758d3c1e-035c-4c03-913e-b5886772ce1c"
      },
      "source": [
        "tfidfv = TfidfVectorizer(ngram_range=(1,3))\n",
        "tfidf_ngram_features = tfidfv.fit_transform(vocab_list)\n",
        "tfidf_ngram_features"
      ],
      "execution_count": 74,
      "outputs": [
        {
          "output_type": "execute_result",
          "data": {
            "text/plain": [
              "<1600x257331 sparse matrix of type '<class 'numpy.float64'>'\n",
              "\twith 579998 stored elements in Compressed Sparse Row format>"
            ]
          },
          "metadata": {
            "tags": []
          },
          "execution_count": 74
        }
      ]
    },
    {
      "cell_type": "code",
      "metadata": {
        "id": "OiFcuOpnzwFt",
        "colab_type": "code",
        "colab": {
          "base_uri": "https://localhost:8080/",
          "height": 238
        },
        "outputId": "6c3584fb-7f79-4fd2-d925-d79f2f4e3ce7"
      },
      "source": [
        "tfidf_ngram_features.todense()"
      ],
      "execution_count": 75,
      "outputs": [
        {
          "output_type": "execute_result",
          "data": {
            "text/plain": [
              "matrix([[0.        , 0.        , 0.        , ..., 0.        , 0.        ,\n",
              "         0.        ],\n",
              "        [0.        , 0.        , 0.        , ..., 0.        , 0.        ,\n",
              "         0.        ],\n",
              "        [0.        , 0.        , 0.        , ..., 0.        , 0.        ,\n",
              "         0.        ],\n",
              "        ...,\n",
              "        [0.03880781, 0.        , 0.        , ..., 0.        , 0.        ,\n",
              "         0.        ],\n",
              "        [0.        , 0.        , 0.        , ..., 0.        , 0.        ,\n",
              "         0.        ],\n",
              "        [0.        , 0.        , 0.        , ..., 0.        , 0.        ,\n",
              "         0.        ]])"
            ]
          },
          "metadata": {
            "tags": []
          },
          "execution_count": 75
        }
      ]
    },
    {
      "cell_type": "code",
      "metadata": {
        "id": "2kSCPgR-zyMx",
        "colab_type": "code",
        "colab": {}
      },
      "source": [
        "# Непустые значения нулевой строки\n",
        "[i for i in tfidf_ngram_features.todense()[0].getA1() if i>0]"
      ],
      "execution_count": 0,
      "outputs": []
    },
    {
      "cell_type": "markdown",
      "metadata": {
        "id": "yLNIuKW_0QTS",
        "colab_type": "text"
      },
      "source": [
        "Решение задачи анализа тональности\n",
        "\n",
        "*С использованием кросс-валидации попробуем применить к корпусу текстов различные варианты векторизации и классификации.*"
      ]
    },
    {
      "cell_type": "code",
      "metadata": {
        "id": "NLan0ZfO0O1r",
        "colab_type": "code",
        "colab": {}
      },
      "source": [
        "def VectorizeAndClassify(vectorizers_list, classifiers_list):\n",
        "    for v in vectorizers_list:\n",
        "        for c in classifiers_list:\n",
        "            pipeline1 = Pipeline([(\"vectorizer\", v), (\"classifier\", c)])\n",
        "            score = cross_val_score(pipeline1, df['text'], y, scoring='accuracy', cv=3).mean()\n",
        "            print('Векторизация - {}'.format(v))\n",
        "            print('Модель для классификации - {}'.format(c))\n",
        "            print('Accuracy = {}'.format(score))\n",
        "            print('===========================')"
      ],
      "execution_count": 0,
      "outputs": []
    },
    {
      "cell_type": "code",
      "metadata": {
        "id": "-8UeClW10i4w",
        "colab_type": "code",
        "colab": {
          "base_uri": "https://localhost:8080/",
          "height": 2312
        },
        "outputId": "a1c50145-c397-47c6-df99-fcca34ed95c7"
      },
      "source": [
        "vectorizers_list = [CountVectorizer(vocabulary = corpusVocab), TfidfVectorizer(vocabulary = corpusVocab)]\n",
        "classifiers_list = [LogisticRegression(C=3.0), LinearSVC(), KNeighborsClassifier()]\n",
        "VectorizeAndClassify(vectorizers_list, classifiers_list)"
      ],
      "execution_count": 105,
      "outputs": [
        {
          "output_type": "stream",
          "text": [
            "/usr/local/lib/python3.6/dist-packages/sklearn/linear_model/_logistic.py:940: ConvergenceWarning: lbfgs failed to converge (status=1):\n",
            "STOP: TOTAL NO. of ITERATIONS REACHED LIMIT.\n",
            "\n",
            "Increase the number of iterations (max_iter) or scale the data as shown in:\n",
            "    https://scikit-learn.org/stable/modules/preprocessing.html\n",
            "Please also refer to the documentation for alternative solver options:\n",
            "    https://scikit-learn.org/stable/modules/linear_model.html#logistic-regression\n",
            "  extra_warning_msg=_LOGISTIC_SOLVER_CONVERGENCE_MSG)\n",
            "/usr/local/lib/python3.6/dist-packages/sklearn/linear_model/_logistic.py:940: ConvergenceWarning: lbfgs failed to converge (status=1):\n",
            "STOP: TOTAL NO. of ITERATIONS REACHED LIMIT.\n",
            "\n",
            "Increase the number of iterations (max_iter) or scale the data as shown in:\n",
            "    https://scikit-learn.org/stable/modules/preprocessing.html\n",
            "Please also refer to the documentation for alternative solver options:\n",
            "    https://scikit-learn.org/stable/modules/linear_model.html#logistic-regression\n",
            "  extra_warning_msg=_LOGISTIC_SOLVER_CONVERGENCE_MSG)\n"
          ],
          "name": "stderr"
        },
        {
          "output_type": "stream",
          "text": [
            "Векторизация - CountVectorizer(analyzer='word', binary=False, decode_error='strict',\n",
            "                dtype=<class 'numpy.int64'>, encoding='utf-8', input='content',\n",
            "                lowercase=True, max_df=1.0, max_features=None, min_df=1,\n",
            "                ngram_range=(1, 1), preprocessor=None, stop_words=None,\n",
            "                strip_accents=None, token_pattern='(?u)\\\\b\\\\w\\\\w+\\\\b',\n",
            "                tokenizer=None,\n",
            "                vocabulary={'00': 0, '000': 1, '00a': 2, '00am': 3, '00pm': 4,\n",
            "                            '03': 5, '04': 6, '05': 7, '06': 8, '07': 9,\n",
            "                            '08': 10, '0800': 11, '09': 12, '10': 13, '100': 14,\n",
            "                            '103': 15, '104': 16, '105': 17, '105mph': 18,\n",
            "                            '107': 19, '10am': 20, '10pm': 21, '10th': 22,\n",
            "                            '10x': 23, '10yo': 24, '11': 25, '110': 26,\n",
            "                            '1112': 27, '116': 28, '11am': 29, ...})\n",
            "Модель для классификации - LogisticRegression(C=3.0, class_weight=None, dual=False, fit_intercept=True,\n",
            "                   intercept_scaling=1, l1_ratio=None, max_iter=100,\n",
            "                   multi_class='auto', n_jobs=None, penalty='l2',\n",
            "                   random_state=None, solver='lbfgs', tol=0.0001, verbose=0,\n",
            "                   warm_start=False)\n",
            "Accuracy = 0.9187483750377693\n",
            "===========================\n"
          ],
          "name": "stdout"
        },
        {
          "output_type": "stream",
          "text": [
            "/usr/local/lib/python3.6/dist-packages/sklearn/svm/_base.py:947: ConvergenceWarning: Liblinear failed to converge, increase the number of iterations.\n",
            "  \"the number of iterations.\", ConvergenceWarning)\n"
          ],
          "name": "stderr"
        },
        {
          "output_type": "stream",
          "text": [
            "Векторизация - CountVectorizer(analyzer='word', binary=False, decode_error='strict',\n",
            "                dtype=<class 'numpy.int64'>, encoding='utf-8', input='content',\n",
            "                lowercase=True, max_df=1.0, max_features=None, min_df=1,\n",
            "                ngram_range=(1, 1), preprocessor=None, stop_words=None,\n",
            "                strip_accents=None, token_pattern='(?u)\\\\b\\\\w\\\\w+\\\\b',\n",
            "                tokenizer=None,\n",
            "                vocabulary={'00': 0, '000': 1, '00a': 2, '00am': 3, '00pm': 4,\n",
            "                            '03': 5, '04': 6, '05': 7, '06': 8, '07': 9,\n",
            "                            '08': 10, '0800': 11, '09': 12, '10': 13, '100': 14,\n",
            "                            '103': 15, '104': 16, '105': 17, '105mph': 18,\n",
            "                            '107': 19, '10am': 20, '10pm': 21, '10th': 22,\n",
            "                            '10x': 23, '10yo': 24, '11': 25, '110': 26,\n",
            "                            '1112': 27, '116': 28, '11am': 29, ...})\n",
            "Модель для классификации - LinearSVC(C=1.0, class_weight=None, dual=True, fit_intercept=True,\n",
            "          intercept_scaling=1, loss='squared_hinge', max_iter=1000,\n",
            "          multi_class='ovr', penalty='l2', random_state=None, tol=0.0001,\n",
            "          verbose=0)\n",
            "Accuracy = 0.9162479827045461\n",
            "===========================\n",
            "Векторизация - CountVectorizer(analyzer='word', binary=False, decode_error='strict',\n",
            "                dtype=<class 'numpy.int64'>, encoding='utf-8', input='content',\n",
            "                lowercase=True, max_df=1.0, max_features=None, min_df=1,\n",
            "                ngram_range=(1, 1), preprocessor=None, stop_words=None,\n",
            "                strip_accents=None, token_pattern='(?u)\\\\b\\\\w\\\\w+\\\\b',\n",
            "                tokenizer=None,\n",
            "                vocabulary={'00': 0, '000': 1, '00a': 2, '00am': 3, '00pm': 4,\n",
            "                            '03': 5, '04': 6, '05': 7, '06': 8, '07': 9,\n",
            "                            '08': 10, '0800': 11, '09': 12, '10': 13, '100': 14,\n",
            "                            '103': 15, '104': 16, '105': 17, '105mph': 18,\n",
            "                            '107': 19, '10am': 20, '10pm': 21, '10th': 22,\n",
            "                            '10x': 23, '10yo': 24, '11': 25, '110': 26,\n",
            "                            '1112': 27, '116': 28, '11am': 29, ...})\n",
            "Модель для классификации - KNeighborsClassifier(algorithm='auto', leaf_size=30, metric='minkowski',\n",
            "                     metric_params=None, n_jobs=None, n_neighbors=5, p=2,\n",
            "                     weights='uniform')\n",
            "Accuracy = 0.7031255489737265\n",
            "===========================\n",
            "Векторизация - TfidfVectorizer(analyzer='word', binary=False, decode_error='strict',\n",
            "                dtype=<class 'numpy.float64'>, encoding='utf-8',\n",
            "                input='content', lowercase=True, max_df=1.0, max_features=None,\n",
            "                min_df=1, ngram_range=(1, 1), norm='l2', preprocessor=None,\n",
            "                smooth_idf=True, stop_words=None, strip_accents=None,\n",
            "                sublinear_tf=False, token_pattern='(?u)\\\\b\\\\w\\\\w+\\\\b',\n",
            "                tokenizer=None, use_idf=True,\n",
            "                vocabulary={'00': 0, '000': 1, '00a': 2, '00am': 3, '00pm': 4,\n",
            "                            '03': 5, '04': 6, '05': 7, '06': 8, '07': 9,\n",
            "                            '08': 10, '0800': 11, '09': 12, '10': 13, '100': 14,\n",
            "                            '103': 15, '104': 16, '105': 17, '105mph': 18,\n",
            "                            '107': 19, '10am': 20, '10pm': 21, '10th': 22,\n",
            "                            '10x': 23, '10yo': 24, '11': 25, '110': 26,\n",
            "                            '1112': 27, '116': 28, '11am': 29, ...})\n",
            "Модель для классификации - LogisticRegression(C=3.0, class_weight=None, dual=False, fit_intercept=True,\n",
            "                   intercept_scaling=1, l1_ratio=None, max_iter=100,\n",
            "                   multi_class='auto', n_jobs=None, penalty='l2',\n",
            "                   random_state=None, solver='lbfgs', tol=0.0001, verbose=0,\n",
            "                   warm_start=False)\n",
            "Accuracy = 0.9343819756261521\n",
            "===========================\n",
            "Векторизация - TfidfVectorizer(analyzer='word', binary=False, decode_error='strict',\n",
            "                dtype=<class 'numpy.float64'>, encoding='utf-8',\n",
            "                input='content', lowercase=True, max_df=1.0, max_features=None,\n",
            "                min_df=1, ngram_range=(1, 1), norm='l2', preprocessor=None,\n",
            "                smooth_idf=True, stop_words=None, strip_accents=None,\n",
            "                sublinear_tf=False, token_pattern='(?u)\\\\b\\\\w\\\\w+\\\\b',\n",
            "                tokenizer=None, use_idf=True,\n",
            "                vocabulary={'00': 0, '000': 1, '00a': 2, '00am': 3, '00pm': 4,\n",
            "                            '03': 5, '04': 6, '05': 7, '06': 8, '07': 9,\n",
            "                            '08': 10, '0800': 11, '09': 12, '10': 13, '100': 14,\n",
            "                            '103': 15, '104': 16, '105': 17, '105mph': 18,\n",
            "                            '107': 19, '10am': 20, '10pm': 21, '10th': 22,\n",
            "                            '10x': 23, '10yo': 24, '11': 25, '110': 26,\n",
            "                            '1112': 27, '116': 28, '11am': 29, ...})\n",
            "Модель для классификации - LinearSVC(C=1.0, class_weight=None, dual=True, fit_intercept=True,\n",
            "          intercept_scaling=1, loss='squared_hinge', max_iter=1000,\n",
            "          multi_class='ovr', penalty='l2', random_state=None, tol=0.0001,\n",
            "          verbose=0)\n",
            "Accuracy = 0.9406323708872352\n",
            "===========================\n",
            "Векторизация - TfidfVectorizer(analyzer='word', binary=False, decode_error='strict',\n",
            "                dtype=<class 'numpy.float64'>, encoding='utf-8',\n",
            "                input='content', lowercase=True, max_df=1.0, max_features=None,\n",
            "                min_df=1, ngram_range=(1, 1), norm='l2', preprocessor=None,\n",
            "                smooth_idf=True, stop_words=None, strip_accents=None,\n",
            "                sublinear_tf=False, token_pattern='(?u)\\\\b\\\\w\\\\w+\\\\b',\n",
            "                tokenizer=None, use_idf=True,\n",
            "                vocabulary={'00': 0, '000': 1, '00a': 2, '00am': 3, '00pm': 4,\n",
            "                            '03': 5, '04': 6, '05': 7, '06': 8, '07': 9,\n",
            "                            '08': 10, '0800': 11, '09': 12, '10': 13, '100': 14,\n",
            "                            '103': 15, '104': 16, '105': 17, '105mph': 18,\n",
            "                            '107': 19, '10am': 20, '10pm': 21, '10th': 22,\n",
            "                            '10x': 23, '10yo': 24, '11': 25, '110': 26,\n",
            "                            '1112': 27, '116': 28, '11am': 29, ...})\n",
            "Модель для классификации - KNeighborsClassifier(algorithm='auto', leaf_size=30, metric='minkowski',\n",
            "                     metric_params=None, n_jobs=None, n_neighbors=5, p=2,\n",
            "                     weights='uniform')\n",
            "Accuracy = 0.8375108038029385\n",
            "===========================\n"
          ],
          "name": "stdout"
        }
      ]
    },
    {
      "cell_type": "code",
      "metadata": {
        "id": "nCezkVwY6d1l",
        "colab_type": "code",
        "colab": {}
      },
      "source": [
        "X_train, X_test, y_train, y_test = train_test_split(df['text'], y, test_size=0.3, random_state=1)"
      ],
      "execution_count": 0,
      "outputs": []
    },
    {
      "cell_type": "code",
      "metadata": {
        "id": "7ay7qFAP6nHI",
        "colab_type": "code",
        "colab": {}
      },
      "source": [
        "def sentiment(v, c):\n",
        "    model = Pipeline(\n",
        "        [(\"vectorizer\", v), \n",
        "         (\"classifier\", c)])\n",
        "    model.fit(X_train, y_train)\n",
        "    y_pred = model.predict(X_test)\n",
        "    print_accuracy_score_for_classes(y_test, y_pred)\n",
        "    print_roc_auc(y_test, y_pred)"
      ],
      "execution_count": 0,
      "outputs": []
    },
    {
      "cell_type": "code",
      "metadata": {
        "id": "5qEpsHbg6qeF",
        "colab_type": "code",
        "colab": {
          "base_uri": "https://localhost:8080/",
          "height": 68
        },
        "outputId": "95c8bae5-6a30-4e77-89cd-1bb53c548286"
      },
      "source": [
        "sentiment(TfidfVectorizer(), LogisticRegression(C=5.0))"
      ],
      "execution_count": 126,
      "outputs": [
        {
          "output_type": "stream",
          "text": [
            "Метка \t Accuracy\n",
            "0 \t 0.9669421487603306\n",
            "1 \t 0.9243697478991597\n"
          ],
          "name": "stdout"
        }
      ]
    },
    {
      "cell_type": "code",
      "metadata": {
        "id": "Rb9yqZV96ry1",
        "colab_type": "code",
        "colab": {
          "base_uri": "https://localhost:8080/",
          "height": 68
        },
        "outputId": "2b5411b5-6e23-429e-90de-77aa657146b7"
      },
      "source": [
        "sentiment(TfidfVectorizer(ngram_range=(1,3)), LogisticRegression(C=5.0))"
      ],
      "execution_count": 93,
      "outputs": [
        {
          "output_type": "stream",
          "text": [
            "Метка \t Accuracy\n",
            "0 \t 0.9669421487603306\n",
            "1 \t 0.9201680672268907\n"
          ],
          "name": "stdout"
        }
      ]
    },
    {
      "cell_type": "code",
      "metadata": {
        "id": "YVOTLUHb6z1s",
        "colab_type": "code",
        "colab": {
          "base_uri": "https://localhost:8080/",
          "height": 68
        },
        "outputId": "4a91e687-3fb2-41bb-d0e4-b27588495c2b"
      },
      "source": [
        "sentiment(TfidfVectorizer(ngram_range=(2,3)), LogisticRegression(C=5.0))"
      ],
      "execution_count": 94,
      "outputs": [
        {
          "output_type": "stream",
          "text": [
            "Метка \t Accuracy\n",
            "0 \t 0.9214876033057852\n",
            "1 \t 0.9159663865546218\n"
          ],
          "name": "stdout"
        }
      ]
    },
    {
      "cell_type": "code",
      "metadata": {
        "id": "0NJiyVvK60gH",
        "colab_type": "code",
        "colab": {
          "base_uri": "https://localhost:8080/",
          "height": 68
        },
        "outputId": "66a48fd5-cd74-4d54-d050-73c7a34a88d4"
      },
      "source": [
        "sentiment(TfidfVectorizer(ngram_range=(1,4)), LogisticRegression(C=5.0))"
      ],
      "execution_count": 95,
      "outputs": [
        {
          "output_type": "stream",
          "text": [
            "Метка \t Accuracy\n",
            "0 \t 0.9628099173553719\n",
            "1 \t 0.8991596638655462\n"
          ],
          "name": "stdout"
        }
      ]
    },
    {
      "cell_type": "code",
      "metadata": {
        "id": "CzVMlh7I7Jyz",
        "colab_type": "code",
        "colab": {}
      },
      "source": [
        "from sklearn.pipeline import Pipeline\n",
        "from sklearn.feature_extraction.text import TfidfVectorizer\n",
        "from sklearn.naive_bayes import MultinomialNB\n",
        "from sklearn.linear_model import Lasso\n",
        "from sklearn.neighbors import KNeighborsClassifier\n",
        "from sklearn.naive_bayes import MultinomialNB\n",
        "from sklearn.svm import LinearSVC\n",
        "from sklearn.calibration import CalibratedClassifierCV\n",
        "from sklearn.linear_model import LogisticRegression\n",
        "\n",
        "tfvectorizer = TfidfVectorizer(sublinear_tf=True, min_df=1, norm='l2',ngram_range=(1, 2),stop_words='english')\n",
        "text_clf = Pipeline([('tfidf', tfvectorizer),\n",
        "('MnNB', MultinomialNB()),\n",
        "])\n",
        "\n",
        "text_clf2 = Pipeline([('tfidf', tfvectorizer),\n",
        "                     ('lSVC', CalibratedClassifierCV(LinearSVC())),\n",
        "])\n",
        "\n",
        "text_clf3 = Pipeline([('tfidf', tfvectorizer),\n",
        "                     ('LR', LogisticRegression()),\n",
        "])\n",
        "\n"
      ],
      "execution_count": 0,
      "outputs": []
    },
    {
      "cell_type": "markdown",
      "metadata": {
        "id": "KxwyhH7uPZYT",
        "colab_type": "text"
      },
      "source": [
        "MultinomialNB"
      ]
    },
    {
      "cell_type": "code",
      "metadata": {
        "id": "sx5aVU3WEV2o",
        "colab_type": "code",
        "colab": {
          "base_uri": "https://localhost:8080/",
          "height": 340
        },
        "outputId": "79de0b14-b02b-4c22-9005-a8b5510b8e36"
      },
      "source": [
        "%time text_clf.fit(X_train, y_train);"
      ],
      "execution_count": 148,
      "outputs": [
        {
          "output_type": "stream",
          "text": [
            "CPU times: user 324 ms, sys: 8.81 ms, total: 333 ms\n",
            "Wall time: 334 ms\n"
          ],
          "name": "stdout"
        },
        {
          "output_type": "execute_result",
          "data": {
            "text/plain": [
              "Pipeline(memory=None,\n",
              "         steps=[('tfidf',\n",
              "                 TfidfVectorizer(analyzer='word', binary=False,\n",
              "                                 decode_error='strict',\n",
              "                                 dtype=<class 'numpy.float64'>,\n",
              "                                 encoding='utf-8', input='content',\n",
              "                                 lowercase=True, max_df=1.0, max_features=None,\n",
              "                                 min_df=1, ngram_range=(1, 2), norm='l2',\n",
              "                                 preprocessor=None, smooth_idf=True,\n",
              "                                 stop_words='english', strip_accents=None,\n",
              "                                 sublinear_tf=True,\n",
              "                                 token_pattern='(?u)\\\\b\\\\w\\\\w+\\\\b',\n",
              "                                 tokenizer=None, use_idf=True,\n",
              "                                 vocabulary=None)),\n",
              "                ('MnNB',\n",
              "                 MultinomialNB(alpha=1.0, class_prior=None, fit_prior=True))],\n",
              "         verbose=False)"
            ]
          },
          "metadata": {
            "tags": []
          },
          "execution_count": 148
        }
      ]
    },
    {
      "cell_type": "code",
      "metadata": {
        "id": "u-2JlfsBEm5d",
        "colab_type": "code",
        "colab": {
          "base_uri": "https://localhost:8080/",
          "height": 454
        },
        "outputId": "cd2d5bc2-6f5f-44c0-a6f7-8f0e01c5ccc7"
      },
      "source": [
        "from sklearn.metrics import accuracy_score as accuracy, precision_score as precision, recall_score as recall\n",
        "\n",
        "print('accuracy train:', accuracy(y_train, text_clf.predict(X_train)))\n",
        "print('accuracy test :', accuracy(y_test, text_clf.predict(X_test)), '\\n')\n",
        "\n",
        "print('precision train:', precision(y_train, text_clf.predict(X_train)))\n",
        "print('precision test :', precision(y_test, text_clf.predict(X_test)), '\\n')\n",
        "\n",
        "print('recall train:', recall(y_train, text_clf.predict(X_train)))\n",
        "print('recall test :', recall(y_test, text_clf.predict(X_test)), '\\n')\n",
        "\n",
        "from sklearn.metrics import roc_curve, auc\n",
        "y_pred_prob = text_clf.predict_proba(X_test)\n",
        "fpr, tpr, thresholds = roc_curve(y_test, y_pred_prob[:,1])\n",
        "roc_auc= auc(fpr, tpr)\n",
        "plt.figure()\n",
        "plt.plot(fpr, tpr, color='green', label='ROC curve (area = %0.4f)' % roc_auc)\n",
        "plt.plot([0, 1], [0, 1], color='navy', linestyle='--')\n",
        "plt.xlim([0.0, 1.0])\n",
        "plt.ylim([0.0, 1.05])\n",
        "plt.xlabel('False Positive Rate')\n",
        "plt.ylabel('True Positive Rate')\n",
        "plt.title('Receiver operating characteristic example')\n",
        "plt.legend(loc=\"lower right\")\n",
        "plt.show()"
      ],
      "execution_count": 149,
      "outputs": [
        {
          "output_type": "stream",
          "text": [
            "accuracy train: 0.9973214285714286\n",
            "accuracy test : 0.9520833333333333 \n",
            "\n",
            "precision train: 0.9946902654867257\n",
            "precision test : 0.9282868525896414 \n",
            "\n",
            "recall train: 1.0\n",
            "recall test : 0.9789915966386554 \n",
            "\n"
          ],
          "name": "stdout"
        },
        {
          "output_type": "display_data",
          "data": {
            "image/png": "[encoded data removed]",
            "text/plain": [
              "<Figure size 432x288 with 1 Axes>"
            ]
          },
          "metadata": {
            "tags": []
          }
        }
      ]
    },
    {
      "cell_type": "markdown",
      "metadata": {
        "id": "AqN3PqYCPSoq",
        "colab_type": "text"
      },
      "source": [
        "LinearSVC"
      ]
    },
    {
      "cell_type": "code",
      "metadata": {
        "id": "DJBq9fczFd2w",
        "colab_type": "code",
        "colab": {
          "base_uri": "https://localhost:8080/",
          "height": 544
        },
        "outputId": "41614984-3b0c-416e-e4ab-2c1204a63732"
      },
      "source": [
        "%time text_clf2.fit(X_train, y_train);"
      ],
      "execution_count": 151,
      "outputs": [
        {
          "output_type": "stream",
          "text": [
            "CPU times: user 410 ms, sys: 6.61 ms, total: 417 ms\n",
            "Wall time: 421 ms\n"
          ],
          "name": "stdout"
        },
        {
          "output_type": "execute_result",
          "data": {
            "text/plain": [
              "Pipeline(memory=None,\n",
              "         steps=[('tfidf',\n",
              "                 TfidfVectorizer(analyzer='word', binary=False,\n",
              "                                 decode_error='strict',\n",
              "                                 dtype=<class 'numpy.float64'>,\n",
              "                                 encoding='utf-8', input='content',\n",
              "                                 lowercase=True, max_df=1.0, max_features=None,\n",
              "                                 min_df=1, ngram_range=(1, 2), norm='l2',\n",
              "                                 preprocessor=None, smooth_idf=True,\n",
              "                                 stop_words='english', strip_accents=None,\n",
              "                                 sublinear_tf=True,\n",
              "                                 token_pattern='(?u)\\\\b\\\\w\\\\w+\\\\b',\n",
              "                                 tokenizer=None, use_idf=True,\n",
              "                                 vocabulary=None)),\n",
              "                ('lSVC',\n",
              "                 CalibratedClassifierCV(base_estimator=LinearSVC(C=1.0,\n",
              "                                                                 class_weight=None,\n",
              "                                                                 dual=True,\n",
              "                                                                 fit_intercept=True,\n",
              "                                                                 intercept_scaling=1,\n",
              "                                                                 loss='squared_hinge',\n",
              "                                                                 max_iter=1000,\n",
              "                                                                 multi_class='ovr',\n",
              "                                                                 penalty='l2',\n",
              "                                                                 random_state=None,\n",
              "                                                                 tol=0.0001,\n",
              "                                                                 verbose=0),\n",
              "                                        cv=None, method='sigmoid'))],\n",
              "         verbose=False)"
            ]
          },
          "metadata": {
            "tags": []
          },
          "execution_count": 151
        }
      ]
    },
    {
      "cell_type": "code",
      "metadata": {
        "id": "7lzrPKECFgYU",
        "colab_type": "code",
        "colab": {
          "base_uri": "https://localhost:8080/",
          "height": 454
        },
        "outputId": "d935a80c-0348-42ef-9e94-bdd34c0ab3ed"
      },
      "source": [
        "print('accuracy train:', accuracy(y_train, text_clf2.predict(X_train)))\n",
        "print('accuracy test :', accuracy(y_test, text_clf2.predict(X_test)), '\\n')\n",
        "\n",
        "print('precision train:', precision(y_train, text_clf2.predict(X_train)))\n",
        "print('precision test :', precision(y_test, text_clf2.predict(X_test)), '\\n')\n",
        "\n",
        "print('recall train:', recall(y_train, text_clf2.predict(X_train)))\n",
        "print('recall test :', recall(y_test, text_clf2.predict(X_test)), '\\n')\n",
        "\n",
        "from sklearn.metrics import roc_curve, auc\n",
        "y_pred_prob = text_clf2.predict_proba(X_test)\n",
        "fpr, tpr, thresholds = roc_curve(y_test, y_pred_prob[:,1])\n",
        "roc_auc= auc(fpr, tpr)\n",
        "plt.figure()\n",
        "plt.plot(fpr, tpr, color='green', label='ROC curve (area = %0.4f)' % roc_auc)\n",
        "plt.plot([0, 1], [0, 1], color='navy', linestyle='--')\n",
        "plt.xlim([0.0, 1.0])\n",
        "plt.ylim([0.0, 1.05])\n",
        "plt.xlabel('False Positive Rate')\n",
        "plt.ylabel('True Positive Rate')\n",
        "plt.title('Receiver operating characteristic example')\n",
        "plt.legend(loc=\"lower right\")\n",
        "plt.show()"
      ],
      "execution_count": 152,
      "outputs": [
        {
          "output_type": "stream",
          "text": [
            "accuracy train: 1.0\n",
            "accuracy test : 0.94375 \n",
            "\n",
            "precision train: 1.0\n",
            "precision test : 0.934156378600823 \n",
            "\n",
            "recall train: 1.0\n",
            "recall test : 0.9537815126050421 \n",
            "\n"
          ],
          "name": "stdout"
        },
        {
          "output_type": "display_data",
          "data": {
            "image/png": "[encoded data removed]",
            "text/plain": [
              "<Figure size 432x288 with 1 Axes>"
            ]
          },
          "metadata": {
            "tags": []
          }
        }
      ]
    },
    {
      "cell_type": "markdown",
      "metadata": {
        "id": "Dn5QlfzaPNTp",
        "colab_type": "text"
      },
      "source": [
        "Линейная регрессия"
      ]
    },
    {
      "cell_type": "code",
      "metadata": {
        "id": "n0Q8BzVhNq4A",
        "colab_type": "code",
        "colab": {
          "base_uri": "https://localhost:8080/",
          "height": 442
        },
        "outputId": "ed121fce-5ab7-419e-bb1c-577ce708bde1"
      },
      "source": [
        "%time text_clf3.fit(X_train, y_train)"
      ],
      "execution_count": 153,
      "outputs": [
        {
          "output_type": "stream",
          "text": [
            "CPU times: user 536 ms, sys: 164 ms, total: 701 ms\n",
            "Wall time: 546 ms\n"
          ],
          "name": "stdout"
        },
        {
          "output_type": "execute_result",
          "data": {
            "text/plain": [
              "Pipeline(memory=None,\n",
              "         steps=[('tfidf',\n",
              "                 TfidfVectorizer(analyzer='word', binary=False,\n",
              "                                 decode_error='strict',\n",
              "                                 dtype=<class 'numpy.float64'>,\n",
              "                                 encoding='utf-8', input='content',\n",
              "                                 lowercase=True, max_df=1.0, max_features=None,\n",
              "                                 min_df=1, ngram_range=(1, 2), norm='l2',\n",
              "                                 preprocessor=None, smooth_idf=True,\n",
              "                                 stop_words='english', strip_accents=None,\n",
              "                                 sublinear_tf=True,\n",
              "                                 token_pattern='(?u)\\\\b\\\\w\\\\w+\\\\b',\n",
              "                                 tokenizer=None, use_idf=True,\n",
              "                                 vocabulary=None)),\n",
              "                ('LR',\n",
              "                 LogisticRegression(C=1.0, class_weight=None, dual=False,\n",
              "                                    fit_intercept=True, intercept_scaling=1,\n",
              "                                    l1_ratio=None, max_iter=100,\n",
              "                                    multi_class='auto', n_jobs=None,\n",
              "                                    penalty='l2', random_state=None,\n",
              "                                    solver='lbfgs', tol=0.0001, verbose=0,\n",
              "                                    warm_start=False))],\n",
              "         verbose=False)"
            ]
          },
          "metadata": {
            "tags": []
          },
          "execution_count": 153
        }
      ]
    },
    {
      "cell_type": "code",
      "metadata": {
        "id": "n-Y2FBIoFpEa",
        "colab_type": "code",
        "colab": {
          "base_uri": "https://localhost:8080/",
          "height": 454
        },
        "outputId": "bf0d9abf-637a-4bde-ec82-a1a6821066e0"
      },
      "source": [
        "print('accuracy train:', accuracy(y_train, text_clf3.predict(X_train)))\n",
        "print('accuracy test :', accuracy(y_test, text_clf3.predict(X_test)), '\\n')\n",
        "print('precision train:', precision(y_train, text_clf3.predict(X_train)))\n",
        "print('precision test :', precision(y_test, text_clf3.predict(X_test)), '\\n')\n",
        "print('recall train:', recall(y_train, text_clf3.predict(X_train)))\n",
        "print('recall test :', recall(y_test, text_clf3.predict(X_test)), '\\n')\n",
        "\n",
        "from sklearn.metrics import roc_curve, auc\n",
        "y_pred_prob = text_clf3.predict_proba(X_test)\n",
        "fpr, tpr, thresholds = roc_curve(y_test, y_pred_prob[:,1])\n",
        "roc_auc= auc(fpr, tpr)\n",
        "plt.figure()\n",
        "plt.plot(fpr, tpr, color='green', label='ROC curve (area = %0.4f)' % roc_auc)\n",
        "plt.plot([0, 1], [0, 1], color='navy', linestyle='--')\n",
        "plt.xlim([0.0, 1.0])\n",
        "plt.ylim([0.0, 1.05])\n",
        "plt.xlabel('False Positive Rate')\n",
        "plt.ylabel('True Positive Rate')\n",
        "plt.title('Receiver operating characteristic example')\n",
        "plt.legend(loc=\"lower right\")\n",
        "plt.show()"
      ],
      "execution_count": 155,
      "outputs": [
        {
          "output_type": "stream",
          "text": [
            "accuracy train: 0.9973214285714286\n",
            "accuracy test : 0.94375 \n",
            "\n",
            "precision train: 0.9946902654867257\n",
            "precision test : 0.934156378600823 \n",
            "\n",
            "recall train: 1.0\n",
            "recall test : 0.9537815126050421 \n",
            "\n"
          ],
          "name": "stdout"
        },
        {
          "output_type": "display_data",
          "data": {
            "image/png": "[encoded data removed]",
            "text/plain": [
              "<Figure size 432x288 with 1 Axes>"
            ]
          },
          "metadata": {
            "tags": []
          }
        }
      ]
    },
    {
      "cell_type": "markdown",
      "metadata": {
        "id": "8BrGXSxLIPhz",
        "colab_type": "text"
      },
      "source": [
        "Сравним характеристики трёх моделей. На рассмотренном наборе данных наибольшую эффективность демонстрирует модель LinearSVC"
      ]
    }
  ]
}