{
  "nbformat": 4,
  "nbformat_minor": 0,
  "metadata": {
    "colab": {
      "name": "mmo_lab4",
      "provenance": [],
      "collapsed_sections": []
    },
    "kernelspec": {
      "name": "python3",
      "display_name": "Python 3"
    }
  },
  "cells": [
    {
      "cell_type": "code",
      "metadata": {
        "id": "ZFo0hVVdpReX",
        "colab_type": "code",
        "colab": {}
      },
      "source": [
        "from IPython.display import Image\n",
        "import numpy as np\n",
        "import pandas as pd\n",
        "from sklearn.model_selection import train_test_split\n",
        "from sklearn.datasets import load_digits\n",
        "from sklearn.neighbors import KNeighborsRegressor, KNeighborsClassifier\n",
        "from sklearn.model_selection import cross_val_score, cross_validate\n",
        "from sklearn.model_selection import KFold, RepeatedKFold, LeaveOneOut, LeavePOut, ShuffleSplit, StratifiedKFold\n",
        "from sklearn.metrics import accuracy_score, balanced_accuracy_score\n",
        "from sklearn.metrics import precision_score, recall_score, f1_score, classification_report\n",
        "from sklearn.metrics import confusion_matrix\n",
        "from sklearn.metrics import mean_absolute_error, mean_squared_error, mean_squared_log_error, median_absolute_error, r2_score \n",
        "from sklearn.metrics import roc_curve, roc_auc_score\n",
        "from sklearn.model_selection import GridSearchCV, RandomizedSearchCV\n",
        "from sklearn.model_selection import learning_curve, validation_curve\n",
        "import seaborn as sns\n",
        "import matplotlib.pyplot as plt\n",
        "%matplotlib inline \n",
        "sns.set(style=\"ticks\")"
      ],
      "execution_count": 0,
      "outputs": []
    },
    {
      "cell_type": "code",
      "metadata": {
        "id": "jCAoZm7ppj61",
        "colab_type": "code",
        "colab": {}
      },
      "source": [
        "mnist = load_digits()"
      ],
      "execution_count": 0,
      "outputs": []
    },
    {
      "cell_type": "markdown",
      "metadata": {
        "id": "rFYIgWB0V6eg",
        "colab_type": "text"
      },
      "source": [
        "###С использованием метода train_test_split разделите выборку на обучающую и тестовую."
      ]
    },
    {
      "cell_type": "code",
      "metadata": {
        "id": "JogubkoHr7mS",
        "colab_type": "code",
        "colab": {}
      },
      "source": [
        "mnist_X_train, mnist_X_test, mnist_y_train, mnist_y_test = train_test_split(\n",
        "    mnist.data, mnist.target, test_size=0.33, random_state = 1)"
      ],
      "execution_count": 0,
      "outputs": []
    },
    {
      "cell_type": "markdown",
      "metadata": {
        "id": "XqWSwDWuWCtf",
        "colab_type": "text"
      },
      "source": [
        "###Обучите модель ближайших соседей для произвольно заданного гиперпараметра K. Оцените качество модели с помощью трех подходящих для задачи метрик."
      ]
    },
    {
      "cell_type": "code",
      "metadata": {
        "id": "Iqi1mlUns1zY",
        "colab_type": "code",
        "outputId": "39ebf5f8-e5ef-4fc0-b0ab-7219434c3e09",
        "colab": {
          "base_uri": "https://localhost:8080/",
          "height": 34
        }
      },
      "source": [
        "cl1_1 = KNeighborsClassifier(n_neighbors=70)\n",
        "cl1_1.fit(mnist_X_train, mnist_y_train)\n",
        "target1_0 = cl1_1.predict (mnist_X_train)\n",
        "target1_1 = cl1_1.predict (mnist_X_test)\n",
        "accuracy_score(mnist_y_train, target1_0) , accuracy_score(mnist_y_test, target1_1)"
      ],
      "execution_count": 0,
      "outputs": [
        {
          "output_type": "execute_result",
          "data": {
            "text/plain": [
              "(0.9301745635910225, 0.9292929292929293)"
            ]
          },
          "metadata": {
            "tags": []
          },
          "execution_count": 62
        }
      ]
    },
    {
      "cell_type": "code",
      "metadata": {
        "id": "qlnlVGeguMxD",
        "colab_type": "code",
        "outputId": "52e518a0-efd2-413b-e397-859a4abfccac",
        "colab": {
          "base_uri": "https://localhost:8080/",
          "height": 34
        }
      },
      "source": [
        "cl1_2 = KNeighborsClassifier(n_neighbors=3)  # МЕТРИКА ACCURACY\n",
        "cl1_2.fit(mnist_X_train, mnist_y_train)\n",
        "target1_0 = cl1_2.predict (mnist_X_train)\n",
        "target1_1 = cl1_2.predict (mnist_X_test)\n",
        "accuracy_score(mnist_y_train, target1_0) , accuracy_score(mnist_y_test, target1_1)"
      ],
      "execution_count": 0,
      "outputs": [
        {
          "output_type": "execute_result",
          "data": {
            "text/plain": [
              "(0.9900249376558603, 0.9831649831649831)"
            ]
          },
          "metadata": {
            "tags": []
          },
          "execution_count": 79
        }
      ]
    },
    {
      "cell_type": "code",
      "metadata": {
        "id": "ekDTuFOYSZZq",
        "colab_type": "code",
        "outputId": "fea92446-2aa7-47d7-adcd-883c76ac7768",
        "colab": {
          "base_uri": "https://localhost:8080/",
          "height": 34
        }
      },
      "source": [
        "# МЕТРИКА PRECISION (точность)\n",
        "precision_score(mnist_y_train, target1_0, average='macro') , precision_score(\n",
        "    mnist_y_test, target1_1,average = 'macro' )"
      ],
      "execution_count": 0,
      "outputs": [
        {
          "output_type": "execute_result",
          "data": {
            "text/plain": [
              "(0.9899136505953144, 0.9828048177163854)"
            ]
          },
          "metadata": {
            "tags": []
          },
          "execution_count": 82
        }
      ]
    },
    {
      "cell_type": "code",
      "metadata": {
        "id": "sz3cLnzmUSAK",
        "colab_type": "code",
        "outputId": "a0037bba-4c62-4d5a-c98c-f702d9919028",
        "colab": {
          "base_uri": "https://localhost:8080/",
          "height": 34
        }
      },
      "source": [
        "# МЕТРИКА PRECISION \n",
        "recall_score(mnist_y_train, target1_0, average='macro') , recall_score(\n",
        "    mnist_y_test, target1_1,average = 'macro' )\n"
      ],
      "execution_count": 0,
      "outputs": [
        {
          "output_type": "execute_result",
          "data": {
            "text/plain": [
              "(0.9899580463051775, 0.983269550229678)"
            ]
          },
          "metadata": {
            "tags": []
          },
          "execution_count": 83
        }
      ]
    },
    {
      "cell_type": "code",
      "metadata": {
        "id": "7q7_Y-SKumVs",
        "colab_type": "code",
        "outputId": "a43b57f3-b3f3-48d2-bd1b-681602eb3af4",
        "colab": {
          "base_uri": "https://localhost:8080/",
          "height": 34
        }
      },
      "source": [
        "cl1_3 = KNeighborsClassifier(n_neighbors=1)\n",
        "cl1_3.fit(mnist_X_train, mnist_y_train)\n",
        "target1_0 = cl1_3.predict (mnist_X_train)\n",
        "target1_1 = cl1_3.predict (mnist_X_test)\n",
        "accuracy_score(mnist_y_train, target1_0) , accuracy_score(mnist_y_test, target1_1)"
      ],
      "execution_count": 0,
      "outputs": [
        {
          "output_type": "execute_result",
          "data": {
            "text/plain": [
              "(1.0, 0.9882154882154882)"
            ]
          },
          "metadata": {
            "tags": []
          },
          "execution_count": 64
        }
      ]
    },
    {
      "cell_type": "code",
      "metadata": {
        "id": "2SEEhXwFUCfm",
        "colab_type": "code",
        "colab": {}
      },
      "source": [
        ""
      ],
      "execution_count": 0,
      "outputs": []
    },
    {
      "cell_type": "markdown",
      "metadata": {
        "id": "1pFBtU08Vgjz",
        "colab_type": "text"
      },
      "source": [
        "###Постройте модель и оцените качество модели с использованием кросс-валидации. Проведите эксперименты с тремя различными стратегиями кросс-валидации.\n",
        "\n",
        "\n"
      ]
    },
    {
      "cell_type": "code",
      "metadata": {
        "id": "iHUlclCIvUpK",
        "colab_type": "code",
        "outputId": "fcfabde6-2abb-474d-b2f5-f5822abb34eb",
        "colab": {
          "base_uri": "https://localhost:8080/",
          "height": 51
        }
      },
      "source": [
        "scores = cross_val_score(KNeighborsClassifier(n_neighbors=3), \n",
        "                         mnist.data, mnist.target, cv=8)\n",
        "scores"
      ],
      "execution_count": 0,
      "outputs": [
        {
          "output_type": "execute_result",
          "data": {
            "text/plain": [
              "array([0.94666667, 0.98222222, 0.95111111, 0.97333333, 0.96888889,\n",
              "       0.99107143, 0.99107143, 0.94642857])"
            ]
          },
          "metadata": {
            "tags": []
          },
          "execution_count": 84
        }
      ]
    },
    {
      "cell_type": "code",
      "metadata": {
        "id": "7iD8B_5hwB1L",
        "colab_type": "code",
        "outputId": "0abf08a1-4f5f-4074-f730-651d2ce5bbf0",
        "colab": {
          "base_uri": "https://localhost:8080/",
          "height": 34
        }
      },
      "source": [
        "np.mean(scores)"
      ],
      "execution_count": 0,
      "outputs": [
        {
          "output_type": "execute_result",
          "data": {
            "text/plain": [
              "0.9688492063492063"
            ]
          },
          "metadata": {
            "tags": []
          },
          "execution_count": 85
        }
      ]
    },
    {
      "cell_type": "code",
      "metadata": {
        "id": "A-aneVhPwLvJ",
        "colab_type": "code",
        "outputId": "6cedc4c4-536c-4b26-afdf-048620a4db6b",
        "colab": {
          "base_uri": "https://localhost:8080/",
          "height": 51
        }
      },
      "source": [
        "scores = cross_val_score(KNeighborsClassifier(n_neighbors=3), \n",
        "                         mnist.data, mnist.target, cv=8,\n",
        "                        scoring='f1_weighted')\n",
        "scores, np.mean(scores)"
      ],
      "execution_count": 0,
      "outputs": [
        {
          "output_type": "execute_result",
          "data": {
            "text/plain": [
              "(array([0.94768494, 0.98200127, 0.95147097, 0.97320885, 0.96933259,\n",
              "        0.99106932, 0.9910649 , 0.94565207]), 0.9689356120000322)"
            ]
          },
          "metadata": {
            "tags": []
          },
          "execution_count": 86
        }
      ]
    },
    {
      "cell_type": "code",
      "metadata": {
        "id": "YJvsjwl5wdMQ",
        "colab_type": "code",
        "outputId": "d116bc93-b7dc-47cb-8e55-083ad1a8ec2f",
        "colab": {
          "base_uri": "https://localhost:8080/",
          "height": 153
        }
      },
      "source": [
        "scoring = {'precision': 'precision_weighted', \n",
        "           'recall': 'recall_weighted',\n",
        "           'f1': 'f1_weighted'}\n",
        "\n",
        "scores = cross_validate(KNeighborsClassifier(n_neighbors=3), \n",
        "                        mnist.data, mnist.target, scoring=scoring, \n",
        "                        cv=3, return_train_score=True)\n",
        "scores"
      ],
      "execution_count": 0,
      "outputs": [
        {
          "output_type": "execute_result",
          "data": {
            "text/plain": [
              "{'fit_time': array([0.00977945, 0.00571847, 0.00579476]),\n",
              " 'score_time': array([0.10819125, 0.10378337, 0.10496187]),\n",
              " 'test_f1': array([0.96525502, 0.96647529, 0.97318555]),\n",
              " 'test_precision': array([0.96668749, 0.96732018, 0.97340347]),\n",
              " 'test_recall': array([0.96494157, 0.96661102, 0.97328881]),\n",
              " 'train_f1': array([0.99331399, 0.99331127, 0.99415255]),\n",
              " 'train_precision': array([0.99337398, 0.99334837, 0.99419636]),\n",
              " 'train_recall': array([0.9933222 , 0.9933222 , 0.99415693])}"
            ]
          },
          "metadata": {
            "tags": []
          },
          "execution_count": 68
        }
      ]
    },
    {
      "cell_type": "markdown",
      "metadata": {
        "id": "m-GLEAfPXymf",
        "colab_type": "text"
      },
      "source": [
        "###K-fold"
      ]
    },
    {
      "cell_type": "code",
      "metadata": {
        "id": "2ZgnQXL1zajl",
        "colab_type": "code",
        "outputId": "9169a531-c608-40ce-e60b-23971885d279",
        "colab": {
          "base_uri": "https://localhost:8080/",
          "height": 34
        }
      },
      "source": [
        "kf = KFold(n_splits=5)\n",
        "scores = cross_val_score(KNeighborsClassifier(n_neighbors=3), \n",
        "                         mnist.data, mnist.target, scoring='f1_weighted', \n",
        "                         cv=kf)\n",
        "scores"
      ],
      "execution_count": 0,
      "outputs": [
        {
          "output_type": "execute_result",
          "data": {
            "text/plain": [
              "array([0.9559596 , 0.96113277, 0.96366091, 0.98602822, 0.96628182])"
            ]
          },
          "metadata": {
            "tags": []
          },
          "execution_count": 90
        }
      ]
    },
    {
      "cell_type": "code",
      "metadata": {
        "id": "rsaSXQOAz4T-",
        "colab_type": "code",
        "outputId": "8b1da389-247d-44a2-ad63-a9e3aae41c0b",
        "colab": {
          "base_uri": "https://localhost:8080/",
          "height": 153
        }
      },
      "source": [
        "kf = KFold(n_splits=5)\n",
        "scores = cross_validate(KNeighborsClassifier(n_neighbors=3), \n",
        "                        mnist.data, mnist.target, scoring=scoring, \n",
        "                        cv=kf, return_train_score=True)\n",
        "scores"
      ],
      "execution_count": 0,
      "outputs": [
        {
          "output_type": "execute_result",
          "data": {
            "text/plain": [
              "{'fit_time': array([0.01152563, 0.00672007, 0.00670028, 0.00661159, 0.00661659]),\n",
              " 'score_time': array([0.07628012, 0.07173538, 0.06945038, 0.07013011, 0.07015181]),\n",
              " 'test_f1': array([0.9559596 , 0.96113277, 0.96366091, 0.98602822, 0.96628182]),\n",
              " 'test_precision': array([0.95762013, 0.96347273, 0.96544955, 0.9861371 , 0.96746161]),\n",
              " 'test_recall': array([0.95555556, 0.96111111, 0.9637883 , 0.98607242, 0.96657382]),\n",
              " 'train_f1': array([0.99302874, 0.99442358, 0.99233002, 0.99442686, 0.99373111]),\n",
              " 'train_precision': array([0.99307822, 0.99449013, 0.99238089, 0.99445488, 0.99376389]),\n",
              " 'train_recall': array([0.99304106, 0.99443285, 0.99235049, 0.99443672, 0.99374131])}"
            ]
          },
          "metadata": {
            "tags": []
          },
          "execution_count": 88
        }
      ]
    },
    {
      "cell_type": "markdown",
      "metadata": {
        "id": "n2KAYM7GYBQb",
        "colab_type": "text"
      },
      "source": [
        "###Repeated K-fold"
      ]
    },
    {
      "cell_type": "code",
      "metadata": {
        "id": "fLBvJuuHZSt5",
        "colab_type": "code",
        "outputId": "cb980c37-beaa-47aa-a2a9-7e8c5f0d7639",
        "colab": {
          "base_uri": "https://localhost:8080/",
          "height": 289
        }
      },
      "source": [
        "rkf = RepeatedKFold(n_splits=3 , n_repeats=2)\n",
        "scores = cross_validate (KNeighborsClassifier(n_neighbors=3),\n",
        "                         mnist.data, mnist.target, scoring = scoring,\n",
        "                         cv = rkf, return_train_score = True)\n",
        "scores"
      ],
      "execution_count": 0,
      "outputs": [
        {
          "output_type": "execute_result",
          "data": {
            "text/plain": [
              "{'fit_time': array([0.00972247, 0.0058856 , 0.00555396, 0.00575852, 0.00585175,\n",
              "        0.00575089]),\n",
              " 'score_time': array([0.10742831, 0.10198522, 0.10773301, 0.10451508, 0.10360909,\n",
              "        0.10853314]),\n",
              " 'test_f1': array([0.98665561, 0.98488817, 0.98656864, 0.97493121, 0.98828304,\n",
              "        0.9933051 ]),\n",
              " 'test_precision': array([0.98679793, 0.9852292 , 0.98667034, 0.9758024 , 0.98848217,\n",
              "        0.99353476]),\n",
              " 'test_recall': array([0.98664441, 0.98497496, 0.98664441, 0.97495826, 0.98831386,\n",
              "        0.9933222 ]),\n",
              " 'train_f1': array([0.99332306, 0.98997524, 0.99246929, 0.99248051, 0.99332896,\n",
              "        0.99246598]),\n",
              " 'train_precision': array([0.99340485, 0.99003127, 0.99249124, 0.99266038, 0.99337702,\n",
              "        0.99247208]),\n",
              " 'train_recall': array([0.9933222 , 0.98998331, 0.99248748, 0.99248748, 0.9933222 ,\n",
              "        0.99248748])}"
            ]
          },
          "metadata": {
            "tags": []
          },
          "execution_count": 92
        }
      ]
    },
    {
      "cell_type": "markdown",
      "metadata": {
        "id": "Ok58Ongaac-4",
        "colab_type": "text"
      },
      "source": [
        "###Leave One Out (LOO)"
      ]
    },
    {
      "cell_type": "code",
      "metadata": {
        "id": "iw7CgwnMbZla",
        "colab_type": "code",
        "colab": {}
      },
      "source": [
        "loo = LeaveOneOut()\n",
        "scores = cross_validate(KNeighborsClassifier(n_neighbors=3), \n",
        "                        mnist.data, mnist.target, scoring = scoring,\n",
        "                        cv = loo, return_train_score = True)\n",
        "scores"
      ],
      "execution_count": 0,
      "outputs": []
    },
    {
      "cell_type": "markdown",
      "metadata": {
        "id": "NGZ_u4R7fENI",
        "colab_type": "text"
      },
      "source": [
        "###Произведите подбор гиперпараметра K с использованием GridSearchCV и кросс-валидации."
      ]
    },
    {
      "cell_type": "code",
      "metadata": {
        "id": "KE9bkvPsh_rL",
        "colab_type": "code",
        "outputId": "2f8f2d38-cb60-4717-c9f3-20fd36ae5f7e",
        "colab": {
          "base_uri": "https://localhost:8080/",
          "height": 34
        }
      },
      "source": [
        "n_range = np.array(range(2,30,2))\n",
        "tuned_parameters = [{'n_neighbors': n_range}]\n",
        "tuned_parameters"
      ],
      "execution_count": 0,
      "outputs": [
        {
          "output_type": "execute_result",
          "data": {
            "text/plain": [
              "[{'n_neighbors': array([ 2,  4,  6,  8, 10, 12, 14, 16, 18, 20, 22, 24, 26, 28])}]"
            ]
          },
          "metadata": {
            "tags": []
          },
          "execution_count": 112
        }
      ]
    },
    {
      "cell_type": "code",
      "metadata": {
        "id": "EKac31Vehha9",
        "colab_type": "code",
        "outputId": "c0f0097e-ce6d-4e02-d3b5-c3548bbd95a9",
        "colab": {
          "base_uri": "https://localhost:8080/",
          "height": 187
        }
      },
      "source": [
        "clf_gs = GridSearchCV(KNeighborsClassifier(), tuned_parameters, cv=5, scoring='accuracy')\n",
        "clf_gs.fit(mnist_X_train, mnist_y_train)\n",
        "#https://stackoverflow.com/questions/49160206/does-gridsearchcv-perform-cross-validation"
      ],
      "execution_count": 0,
      "outputs": [
        {
          "output_type": "execute_result",
          "data": {
            "text/plain": [
              "GridSearchCV(cv=5, error_score=nan,\n",
              "             estimator=KNeighborsClassifier(algorithm='auto', leaf_size=30,\n",
              "                                            metric='minkowski',\n",
              "                                            metric_params=None, n_jobs=None,\n",
              "                                            n_neighbors=5, p=2,\n",
              "                                            weights='uniform'),\n",
              "             iid='deprecated', n_jobs=None,\n",
              "             param_grid=[{'n_neighbors': array([ 2,  4,  6,  8, 10, 12, 14, 16, 18, 20, 22, 24, 26, 28])}],\n",
              "             pre_dispatch='2*n_jobs', refit=True, return_train_score=False,\n",
              "             scoring='accuracy', verbose=0)"
            ]
          },
          "metadata": {
            "tags": []
          },
          "execution_count": 113
        }
      ]
    },
    {
      "cell_type": "code",
      "metadata": {
        "id": "KsPn-Ro4h3Yb",
        "colab_type": "code",
        "outputId": "60c4540c-3a7a-458a-cc1b-fc2fa5ac9220",
        "colab": {
          "base_uri": "https://localhost:8080/",
          "height": 969
        }
      },
      "source": [
        "clf_gs.cv_results_"
      ],
      "execution_count": 0,
      "outputs": [
        {
          "output_type": "execute_result",
          "data": {
            "text/plain": [
              "{'mean_fit_time': array([0.00546236, 0.00478535, 0.00479555, 0.00460172, 0.0045207 ,\n",
              "        0.00463357, 0.00468388, 0.00459313, 0.004633  , 0.00458751,\n",
              "        0.00515485, 0.00462193, 0.00459375, 0.00458717]),\n",
              " 'mean_score_time': array([0.03663001, 0.03893838, 0.03947306, 0.03825545, 0.03836875,\n",
              "        0.04016452, 0.03910532, 0.03924427, 0.0393961 , 0.03955474,\n",
              "        0.04036608, 0.03980608, 0.03997355, 0.04009004]),\n",
              " 'mean_test_score': array([0.97007607, 0.97672545, 0.97589212, 0.97256916, 0.96925311,\n",
              "        0.96675657, 0.96177386, 0.95762102, 0.95595436, 0.95096819,\n",
              "        0.94763831, 0.94681535, 0.94432227, 0.94431535]),\n",
              " 'param_n_neighbors': masked_array(data=[2, 4, 6, 8, 10, 12, 14, 16, 18, 20, 22, 24, 26, 28],\n",
              "              mask=[False, False, False, False, False, False, False, False,\n",
              "                    False, False, False, False, False, False],\n",
              "        fill_value='?',\n",
              "             dtype=object),\n",
              " 'params': [{'n_neighbors': 2},\n",
              "  {'n_neighbors': 4},\n",
              "  {'n_neighbors': 6},\n",
              "  {'n_neighbors': 8},\n",
              "  {'n_neighbors': 10},\n",
              "  {'n_neighbors': 12},\n",
              "  {'n_neighbors': 14},\n",
              "  {'n_neighbors': 16},\n",
              "  {'n_neighbors': 18},\n",
              "  {'n_neighbors': 20},\n",
              "  {'n_neighbors': 22},\n",
              "  {'n_neighbors': 24},\n",
              "  {'n_neighbors': 26},\n",
              "  {'n_neighbors': 28}],\n",
              " 'rank_test_score': array([ 4,  1,  2,  3,  5,  6,  7,  8,  9, 10, 11, 12, 13, 14],\n",
              "       dtype=int32),\n",
              " 'split0_test_score': array([0.9626556 , 0.97095436, 0.97095436, 0.97095436, 0.95850622,\n",
              "        0.95435685, 0.94605809, 0.93775934, 0.93775934, 0.92946058,\n",
              "        0.92946058, 0.92946058, 0.92946058, 0.92946058]),\n",
              " 'split1_test_score': array([0.97095436, 0.97510373, 0.97510373, 0.97095436, 0.9626556 ,\n",
              "        0.96680498, 0.9626556 , 0.95850622, 0.9626556 , 0.95850622,\n",
              "        0.9626556 , 0.95435685, 0.95020747, 0.95435685]),\n",
              " 'split2_test_score': array([0.97510373, 0.98340249, 0.98340249, 0.97510373, 0.97510373,\n",
              "        0.97095436, 0.9626556 , 0.95850622, 0.95435685, 0.95020747,\n",
              "        0.94190871, 0.93775934, 0.93360996, 0.93775934]),\n",
              " 'split3_test_score': array([0.95833333, 0.96666667, 0.9625    , 0.9625    , 0.96666667,\n",
              "        0.95833333, 0.95416667, 0.95416667, 0.95      , 0.94583333,\n",
              "        0.94583333, 0.94583333, 0.94166667, 0.94166667]),\n",
              " 'split4_test_score': array([0.98333333, 0.9875    , 0.9875    , 0.98333333, 0.98333333,\n",
              "        0.98333333, 0.98333333, 0.97916667, 0.975     , 0.97083333,\n",
              "        0.95833333, 0.96666667, 0.96666667, 0.95833333]),\n",
              " 'std_fit_time': array([1.39303721e-03, 2.10527920e-04, 2.10172868e-04, 6.98907300e-05,\n",
              "        8.26202632e-05, 1.31532278e-04, 1.11610111e-04, 2.96545178e-05,\n",
              "        8.81757392e-05, 7.30198849e-05, 1.00808284e-03, 7.65846199e-05,\n",
              "        1.15292934e-04, 6.20769828e-05]),\n",
              " 'std_score_time': array([3.29478177e-04, 2.48463267e-03, 1.96270718e-03, 3.80388038e-04,\n",
              "        2.59852251e-04, 2.41539079e-03, 1.04668591e-04, 2.98133471e-04,\n",
              "        6.72395176e-05, 2.77161023e-04, 1.03305655e-03, 5.12451381e-04,\n",
              "        1.42170692e-04, 1.90530990e-04]),\n",
              " 'std_test_score': array([0.00888548, 0.00771736, 0.00889382, 0.00676601, 0.00892407,\n",
              "        0.01016973, 0.01241951, 0.01320758, 0.01246361, 0.01371837,\n",
              "        0.01188628, 0.01292372, 0.01324072, 0.0106583 ])}"
            ]
          },
          "metadata": {
            "tags": []
          },
          "execution_count": 114
        }
      ]
    },
    {
      "cell_type": "code",
      "metadata": {
        "id": "JbNDKxxSiOGj",
        "colab_type": "code",
        "outputId": "c0d05718-9801-428a-e478-ca2eacbe16f1",
        "colab": {
          "base_uri": "https://localhost:8080/",
          "height": 68
        }
      },
      "source": [
        "clf_gs.best_estimator_"
      ],
      "execution_count": 0,
      "outputs": [
        {
          "output_type": "execute_result",
          "data": {
            "text/plain": [
              "KNeighborsClassifier(algorithm='auto', leaf_size=30, metric='minkowski',\n",
              "                     metric_params=None, n_jobs=None, n_neighbors=4, p=2,\n",
              "                     weights='uniform')"
            ]
          },
          "metadata": {
            "tags": []
          },
          "execution_count": 116
        }
      ]
    },
    {
      "cell_type": "code",
      "metadata": {
        "id": "WCOGDjIOipMz",
        "colab_type": "code",
        "outputId": "1c574807-e2d4-4781-bcab-ef92373e3ff3",
        "colab": {
          "base_uri": "https://localhost:8080/",
          "height": 34
        }
      },
      "source": [
        "clf_gs.best_score_"
      ],
      "execution_count": 0,
      "outputs": [
        {
          "output_type": "execute_result",
          "data": {
            "text/plain": [
              "0.976725449515906"
            ]
          },
          "metadata": {
            "tags": []
          },
          "execution_count": 117
        }
      ]
    },
    {
      "cell_type": "code",
      "metadata": {
        "id": "dgnVudAYivga",
        "colab_type": "code",
        "outputId": "ee1d2f48-689b-4398-d298-c47293f12c48",
        "colab": {
          "base_uri": "https://localhost:8080/",
          "height": 34
        }
      },
      "source": [
        "clf_gs.best_params_"
      ],
      "execution_count": 0,
      "outputs": [
        {
          "output_type": "execute_result",
          "data": {
            "text/plain": [
              "{'n_neighbors': 4}"
            ]
          },
          "metadata": {
            "tags": []
          },
          "execution_count": 118
        }
      ]
    },
    {
      "cell_type": "code",
      "metadata": {
        "id": "LP07CXhViyFR",
        "colab_type": "code",
        "outputId": "07115f86-03f6-4eda-c93b-7cb687ae6ec3",
        "colab": {
          "base_uri": "https://localhost:8080/",
          "height": 285
        }
      },
      "source": [
        "plt.plot(n_range, clf_gs.cv_results_['mean_test_score'])"
      ],
      "execution_count": 0,
      "outputs": [
        {
          "output_type": "execute_result",
          "data": {
            "text/plain": [
              "[<matplotlib.lines.Line2D at 0x7f65dd248668>]"
            ]
          },
          "metadata": {
            "tags": []
          },
          "execution_count": 119
        },
        {
          "output_type": "display_data",
          "data": {
            "image/png": "[encoded data removed]",
            "text/plain": [
              "<Figure size 432x288 with 1 Axes>"
            ]
          },
          "metadata": {
            "tags": []
          }
        }
      ]
    },
    {
      "cell_type": "code",
      "metadata": {
        "id": "CB2SU444lTme",
        "colab_type": "code",
        "colab": {}
      },
      "source": [
        "def plot_learning_curve(estimator, title, X, y, ylim=None, cv=None,\n",
        "                        n_jobs=None, train_sizes=np.linspace(.1, 1.0, 5)):\n",
        "    plt.figure()\n",
        "    plt.title(title)\n",
        "    if ylim is not None:\n",
        "        plt.ylim(*ylim)\n",
        "    plt.xlabel(\"Training examples\")\n",
        "    plt.ylabel(\"Score\")\n",
        "    train_sizes, train_scores, test_scores = learning_curve(\n",
        "        estimator, X, y, cv=cv, n_jobs=n_jobs, train_sizes=train_sizes)\n",
        "    train_scores_mean = np.mean(train_scores, axis=1)\n",
        "    train_scores_std = np.std(train_scores, axis=1)\n",
        "    test_scores_mean = np.mean(test_scores, axis=1)\n",
        "    test_scores_std = np.std(test_scores, axis=1)\n",
        "    plt.grid()\n",
        "\n",
        "    plt.fill_between(train_sizes, train_scores_mean - train_scores_std,\n",
        "                     train_scores_mean + train_scores_std, alpha=0.3,\n",
        "                     color=\"r\")\n",
        "    plt.fill_between(train_sizes, test_scores_mean - test_scores_std,\n",
        "                     test_scores_mean + test_scores_std, alpha=0.1, color=\"g\")\n",
        "    plt.plot(train_sizes, train_scores_mean, 'o-', color=\"r\",\n",
        "             label=\"Training score\")\n",
        "    plt.plot(train_sizes, test_scores_mean, 'o-', color=\"g\",\n",
        "             label=\"Cross-validation score\")\n",
        "\n",
        "    plt.legend(loc=\"best\")\n",
        "    return plt"
      ],
      "execution_count": 0,
      "outputs": []
    },
    {
      "cell_type": "code",
      "metadata": {
        "id": "ySVrmB2ElllF",
        "colab_type": "code",
        "outputId": "ac868752-98d3-4350-b6e5-ce85fc2d6270",
        "colab": {
          "base_uri": "https://localhost:8080/",
          "height": 318
        }
      },
      "source": [
        "plot_learning_curve(KNeighborsClassifier(n_neighbors=5), 'n_neighbors=5', \n",
        "                    mnist_X_train, mnist_y_train, cv=20)"
      ],
      "execution_count": 0,
      "outputs": [
        {
          "output_type": "execute_result",
          "data": {
            "text/plain": [
              "<module 'matplotlib.pyplot' from '/usr/local/lib/python3.6/dist-packages/matplotlib/pyplot.py'>"
            ]
          },
          "metadata": {
            "tags": []
          },
          "execution_count": 121
        },
        {
          "output_type": "display_data",
          "data": {
            "image/png": "[encoded data removed]",
            "text/plain": [
              "<Figure size 432x288 with 1 Axes>"
            ]
          },
          "metadata": {
            "tags": []
          }
        }
      ]
    },
    {
      "cell_type": "markdown",
      "metadata": {
        "id": "WAl7wpesmRJ0",
        "colab_type": "text"
      },
      "source": [
        "###Построение кривой валидации"
      ]
    },
    {
      "cell_type": "code",
      "metadata": {
        "id": "f11r0sS8mPgk",
        "colab_type": "code",
        "colab": {}
      },
      "source": [
        "def plot_validation_curve(estimator, title, X, y, \n",
        "                          param_name, param_range, cv, \n",
        "                          scoring=\"accuracy\"):\n",
        "                                                   \n",
        "    train_scores, test_scores = validation_curve(\n",
        "        estimator, X, y, param_name=param_name, param_range=param_range,\n",
        "        cv=cv, scoring=scoring, n_jobs=1)\n",
        "    train_scores_mean = np.mean(train_scores, axis=1)\n",
        "    train_scores_std = np.std(train_scores, axis=1)\n",
        "    test_scores_mean = np.mean(test_scores, axis=1)\n",
        "    test_scores_std = np.std(test_scores, axis=1)\n",
        "\n",
        "    plt.title(title)\n",
        "    plt.xlabel(param_name)\n",
        "    plt.ylabel(str(scoring))\n",
        "    plt.ylim(0.0, 1.1)\n",
        "    lw = 2\n",
        "    plt.plot(param_range, train_scores_mean, label=\"Training score\",\n",
        "                 color=\"darkorange\", lw=lw)\n",
        "    plt.fill_between(param_range, train_scores_mean - train_scores_std,\n",
        "                     train_scores_mean + train_scores_std, alpha=0.4,\n",
        "                     color=\"darkorange\", lw=lw)\n",
        "    plt.plot(param_range, test_scores_mean, label=\"Cross-validation score\",\n",
        "                 color=\"navy\", lw=lw)\n",
        "    plt.fill_between(param_range, test_scores_mean - test_scores_std,\n",
        "                     test_scores_mean + test_scores_std, alpha=0.2,\n",
        "                     color=\"navy\", lw=lw)\n",
        "    plt.legend(loc=\"best\")\n",
        "    return plt"
      ],
      "execution_count": 0,
      "outputs": []
    },
    {
      "cell_type": "code",
      "metadata": {
        "id": "0TswfYPnn447",
        "colab_type": "code",
        "colab": {}
      },
      "source": [
        "n_range2 = np.array(range(5,125,5))"
      ],
      "execution_count": 0,
      "outputs": []
    },
    {
      "cell_type": "code",
      "metadata": {
        "id": "8adBLVn8mZuU",
        "colab_type": "code",
        "outputId": "73eba16d-8482-405d-9e96-ad187eb65ba4",
        "colab": {
          "base_uri": "https://localhost:8080/",
          "height": 318
        }
      },
      "source": [
        "plot_validation_curve(KNeighborsClassifier(), 'knn', \n",
        "                      mnist_X_train, mnist_y_train, \n",
        "                      param_name='n_neighbors', param_range=n_range2, \n",
        "                      cv=20, scoring=\"accuracy\")"
      ],
      "execution_count": 0,
      "outputs": [
        {
          "output_type": "execute_result",
          "data": {
            "text/plain": [
              "<module 'matplotlib.pyplot' from '/usr/local/lib/python3.6/dist-packages/matplotlib/pyplot.py'>"
            ]
          },
          "metadata": {
            "tags": []
          },
          "execution_count": 124
        },
        {
          "output_type": "display_data",
          "data": {
            "image/png": "[encoded data removed]",
            "text/plain": [
              "<Figure size 432x288 with 1 Axes>"
            ]
          },
          "metadata": {
            "tags": []
          }
        }
      ]
    }
  ]
}